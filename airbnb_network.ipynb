{
 "cells": [
  {
   "cell_type": "markdown",
   "metadata": {},
   "source": [
    "# Bayesian Network: AirBnb houses in Bologna\n",
    "## Importing libraries"
   ]
  },
  {
   "cell_type": "code",
   "execution_count": 185,
   "metadata": {},
   "outputs": [
    {
     "name": "stdout",
     "output_type": "stream",
     "text": [
      "Libraries imported\n"
     ]
    }
   ],
   "source": [
    "import pandas as pd\n",
    "import numpy as np\n",
    "from pgmpy.models import BayesianNetwork\n",
    "from pgmpy.factors.discrete import TabularCPD\n",
    "from pgmpy.inference import VariableElimination\n",
    "\n",
    "print('Libraries imported')"
   ]
  },
  {
   "cell_type": "markdown",
   "metadata": {
    "pycharm": {
     "name": "#%% md\n"
    }
   },
   "source": [
    "## Loading Airbnb database"
   ]
  },
  {
   "cell_type": "code",
   "execution_count": 186,
   "metadata": {
    "pycharm": {
     "name": "#%%\n"
    }
   },
   "outputs": [
    {
     "data": {
      "text/html": [
       "<div>\n",
       "<style scoped>\n",
       "    .dataframe tbody tr th:only-of-type {\n",
       "        vertical-align: middle;\n",
       "    }\n",
       "\n",
       "    .dataframe tbody tr th {\n",
       "        vertical-align: top;\n",
       "    }\n",
       "\n",
       "    .dataframe thead th {\n",
       "        text-align: right;\n",
       "    }\n",
       "</style>\n",
       "<table border=\"1\" class=\"dataframe\">\n",
       "  <thead>\n",
       "    <tr style=\"text-align: right;\">\n",
       "      <th></th>\n",
       "      <th>id</th>\n",
       "      <th>listing_url</th>\n",
       "      <th>scrape_id</th>\n",
       "      <th>last_scraped</th>\n",
       "      <th>name</th>\n",
       "      <th>description</th>\n",
       "      <th>neighborhood_overview</th>\n",
       "      <th>picture_url</th>\n",
       "      <th>host_id</th>\n",
       "      <th>host_url</th>\n",
       "      <th>...</th>\n",
       "      <th>review_scores_communication</th>\n",
       "      <th>review_scores_location</th>\n",
       "      <th>review_scores_value</th>\n",
       "      <th>license</th>\n",
       "      <th>instant_bookable</th>\n",
       "      <th>calculated_host_listings_count</th>\n",
       "      <th>calculated_host_listings_count_entire_homes</th>\n",
       "      <th>calculated_host_listings_count_private_rooms</th>\n",
       "      <th>calculated_host_listings_count_shared_rooms</th>\n",
       "      <th>reviews_per_month</th>\n",
       "    </tr>\n",
       "  </thead>\n",
       "  <tbody>\n",
       "    <tr>\n",
       "      <th>0</th>\n",
       "      <td>42196</td>\n",
       "      <td>https://www.airbnb.com/rooms/42196</td>\n",
       "      <td>20211217003510</td>\n",
       "      <td>2021-12-17</td>\n",
       "      <td>50 sm Studio in the historic centre</td>\n",
       "      <td>&lt;b&gt;The space&lt;/b&gt;&lt;br /&gt;Really cozy and typical ...</td>\n",
       "      <td>NaN</td>\n",
       "      <td>https://a0.muscache.com/pictures/4775726/68044...</td>\n",
       "      <td>184487</td>\n",
       "      <td>https://www.airbnb.com/users/show/184487</td>\n",
       "      <td>...</td>\n",
       "      <td>4.85</td>\n",
       "      <td>4.85</td>\n",
       "      <td>4.70</td>\n",
       "      <td>NaN</td>\n",
       "      <td>t</td>\n",
       "      <td>1</td>\n",
       "      <td>1</td>\n",
       "      <td>0</td>\n",
       "      <td>0</td>\n",
       "      <td>1.32</td>\n",
       "    </tr>\n",
       "    <tr>\n",
       "      <th>1</th>\n",
       "      <td>46352</td>\n",
       "      <td>https://www.airbnb.com/rooms/46352</td>\n",
       "      <td>20211217003510</td>\n",
       "      <td>2021-12-17</td>\n",
       "      <td>A room in Pasolini's house</td>\n",
       "      <td>Simple, cozy and silent room in a lived house ...</td>\n",
       "      <td>In the very nearby you have Via Saragozza whic...</td>\n",
       "      <td>https://a0.muscache.com/pictures/9f94acc3-98fc...</td>\n",
       "      <td>467810</td>\n",
       "      <td>https://www.airbnb.com/users/show/467810</td>\n",
       "      <td>...</td>\n",
       "      <td>4.79</td>\n",
       "      <td>4.80</td>\n",
       "      <td>4.59</td>\n",
       "      <td>NaN</td>\n",
       "      <td>f</td>\n",
       "      <td>2</td>\n",
       "      <td>0</td>\n",
       "      <td>2</td>\n",
       "      <td>0</td>\n",
       "      <td>2.20</td>\n",
       "    </tr>\n",
       "    <tr>\n",
       "      <th>2</th>\n",
       "      <td>59697</td>\n",
       "      <td>https://www.airbnb.com/rooms/59697</td>\n",
       "      <td>20211217003510</td>\n",
       "      <td>2021-12-17</td>\n",
       "      <td>COZY LARGE BEDROOM in the city center</td>\n",
       "      <td>Cozy, spacious and bright double bedroom, in a...</td>\n",
       "      <td>NaN</td>\n",
       "      <td>https://a0.muscache.com/pictures/ac0528c4-b26f...</td>\n",
       "      <td>286688</td>\n",
       "      <td>https://www.airbnb.com/users/show/286688</td>\n",
       "      <td>...</td>\n",
       "      <td>4.79</td>\n",
       "      <td>4.82</td>\n",
       "      <td>4.66</td>\n",
       "      <td>NaN</td>\n",
       "      <td>f</td>\n",
       "      <td>2</td>\n",
       "      <td>0</td>\n",
       "      <td>2</td>\n",
       "      <td>0</td>\n",
       "      <td>2.18</td>\n",
       "    </tr>\n",
       "  </tbody>\n",
       "</table>\n",
       "<p>3 rows × 74 columns</p>\n",
       "</div>"
      ],
      "text/plain": [
       "      id                         listing_url       scrape_id last_scraped  \\\n",
       "0  42196  https://www.airbnb.com/rooms/42196  20211217003510   2021-12-17   \n",
       "1  46352  https://www.airbnb.com/rooms/46352  20211217003510   2021-12-17   \n",
       "2  59697  https://www.airbnb.com/rooms/59697  20211217003510   2021-12-17   \n",
       "\n",
       "                                    name  \\\n",
       "0    50 sm Studio in the historic centre   \n",
       "1             A room in Pasolini's house   \n",
       "2  COZY LARGE BEDROOM in the city center   \n",
       "\n",
       "                                         description  \\\n",
       "0  <b>The space</b><br />Really cozy and typical ...   \n",
       "1  Simple, cozy and silent room in a lived house ...   \n",
       "2  Cozy, spacious and bright double bedroom, in a...   \n",
       "\n",
       "                               neighborhood_overview  \\\n",
       "0                                                NaN   \n",
       "1  In the very nearby you have Via Saragozza whic...   \n",
       "2                                                NaN   \n",
       "\n",
       "                                         picture_url  host_id  \\\n",
       "0  https://a0.muscache.com/pictures/4775726/68044...   184487   \n",
       "1  https://a0.muscache.com/pictures/9f94acc3-98fc...   467810   \n",
       "2  https://a0.muscache.com/pictures/ac0528c4-b26f...   286688   \n",
       "\n",
       "                                   host_url  ... review_scores_communication  \\\n",
       "0  https://www.airbnb.com/users/show/184487  ...                        4.85   \n",
       "1  https://www.airbnb.com/users/show/467810  ...                        4.79   \n",
       "2  https://www.airbnb.com/users/show/286688  ...                        4.79   \n",
       "\n",
       "  review_scores_location review_scores_value license instant_bookable  \\\n",
       "0                   4.85                4.70     NaN                t   \n",
       "1                   4.80                4.59     NaN                f   \n",
       "2                   4.82                4.66     NaN                f   \n",
       "\n",
       "  calculated_host_listings_count calculated_host_listings_count_entire_homes  \\\n",
       "0                              1                                           1   \n",
       "1                              2                                           0   \n",
       "2                              2                                           0   \n",
       "\n",
       "  calculated_host_listings_count_private_rooms  \\\n",
       "0                                            0   \n",
       "1                                            2   \n",
       "2                                            2   \n",
       "\n",
       "  calculated_host_listings_count_shared_rooms reviews_per_month  \n",
       "0                                           0              1.32  \n",
       "1                                           0              2.20  \n",
       "2                                           0              2.18  \n",
       "\n",
       "[3 rows x 74 columns]"
      ]
     },
     "execution_count": 186,
     "metadata": {},
     "output_type": "execute_result"
    }
   ],
   "source": [
    "listings = pd.read_csv(\"listings.csv\")\n",
    "listings.head(3)"
   ]
  },
  {
   "cell_type": "markdown",
   "metadata": {},
   "source": [
    "## Preprocessing\n",
    "1. Encoding amenities as one-hot array"
   ]
  },
  {
   "cell_type": "code",
   "execution_count": 187,
   "metadata": {
    "pycharm": {
     "name": "#%%\n"
    }
   },
   "outputs": [
    {
     "data": {
      "text/html": [
       "<div>\n",
       "<style scoped>\n",
       "    .dataframe tbody tr th:only-of-type {\n",
       "        vertical-align: middle;\n",
       "    }\n",
       "\n",
       "    .dataframe tbody tr th {\n",
       "        vertical-align: top;\n",
       "    }\n",
       "\n",
       "    .dataframe thead th {\n",
       "        text-align: right;\n",
       "    }\n",
       "</style>\n",
       "<table border=\"1\" class=\"dataframe\">\n",
       "  <thead>\n",
       "    <tr style=\"text-align: right;\">\n",
       "      <th></th>\n",
       "      <th>id</th>\n",
       "      <th>listing_url</th>\n",
       "      <th>scrape_id</th>\n",
       "      <th>last_scraped</th>\n",
       "      <th>name</th>\n",
       "      <th>description</th>\n",
       "      <th>neighborhood_overview</th>\n",
       "      <th>picture_url</th>\n",
       "      <th>host_id</th>\n",
       "      <th>host_url</th>\n",
       "      <th>...</th>\n",
       "      <th>review_scores_value</th>\n",
       "      <th>license</th>\n",
       "      <th>instant_bookable</th>\n",
       "      <th>calculated_host_listings_count</th>\n",
       "      <th>calculated_host_listings_count_entire_homes</th>\n",
       "      <th>calculated_host_listings_count_private_rooms</th>\n",
       "      <th>calculated_host_listings_count_shared_rooms</th>\n",
       "      <th>reviews_per_month</th>\n",
       "      <th>kitchen</th>\n",
       "      <th>wifi</th>\n",
       "    </tr>\n",
       "  </thead>\n",
       "  <tbody>\n",
       "    <tr>\n",
       "      <th>0</th>\n",
       "      <td>42196</td>\n",
       "      <td>https://www.airbnb.com/rooms/42196</td>\n",
       "      <td>20211217003510</td>\n",
       "      <td>2021-12-17</td>\n",
       "      <td>50 sm Studio in the historic centre</td>\n",
       "      <td>&lt;b&gt;The space&lt;/b&gt;&lt;br /&gt;Really cozy and typical ...</td>\n",
       "      <td>NaN</td>\n",
       "      <td>https://a0.muscache.com/pictures/4775726/68044...</td>\n",
       "      <td>184487</td>\n",
       "      <td>https://www.airbnb.com/users/show/184487</td>\n",
       "      <td>...</td>\n",
       "      <td>4.70</td>\n",
       "      <td>NaN</td>\n",
       "      <td>t</td>\n",
       "      <td>1</td>\n",
       "      <td>1</td>\n",
       "      <td>0</td>\n",
       "      <td>0</td>\n",
       "      <td>1.32</td>\n",
       "      <td>True</td>\n",
       "      <td>False</td>\n",
       "    </tr>\n",
       "    <tr>\n",
       "      <th>1</th>\n",
       "      <td>46352</td>\n",
       "      <td>https://www.airbnb.com/rooms/46352</td>\n",
       "      <td>20211217003510</td>\n",
       "      <td>2021-12-17</td>\n",
       "      <td>A room in Pasolini's house</td>\n",
       "      <td>Simple, cozy and silent room in a lived house ...</td>\n",
       "      <td>In the very nearby you have Via Saragozza whic...</td>\n",
       "      <td>https://a0.muscache.com/pictures/9f94acc3-98fc...</td>\n",
       "      <td>467810</td>\n",
       "      <td>https://www.airbnb.com/users/show/467810</td>\n",
       "      <td>...</td>\n",
       "      <td>4.59</td>\n",
       "      <td>NaN</td>\n",
       "      <td>f</td>\n",
       "      <td>2</td>\n",
       "      <td>0</td>\n",
       "      <td>2</td>\n",
       "      <td>0</td>\n",
       "      <td>2.20</td>\n",
       "      <td>True</td>\n",
       "      <td>False</td>\n",
       "    </tr>\n",
       "    <tr>\n",
       "      <th>2</th>\n",
       "      <td>59697</td>\n",
       "      <td>https://www.airbnb.com/rooms/59697</td>\n",
       "      <td>20211217003510</td>\n",
       "      <td>2021-12-17</td>\n",
       "      <td>COZY LARGE BEDROOM in the city center</td>\n",
       "      <td>Cozy, spacious and bright double bedroom, in a...</td>\n",
       "      <td>NaN</td>\n",
       "      <td>https://a0.muscache.com/pictures/ac0528c4-b26f...</td>\n",
       "      <td>286688</td>\n",
       "      <td>https://www.airbnb.com/users/show/286688</td>\n",
       "      <td>...</td>\n",
       "      <td>4.66</td>\n",
       "      <td>NaN</td>\n",
       "      <td>f</td>\n",
       "      <td>2</td>\n",
       "      <td>0</td>\n",
       "      <td>2</td>\n",
       "      <td>0</td>\n",
       "      <td>2.18</td>\n",
       "      <td>True</td>\n",
       "      <td>False</td>\n",
       "    </tr>\n",
       "  </tbody>\n",
       "</table>\n",
       "<p>3 rows × 76 columns</p>\n",
       "</div>"
      ],
      "text/plain": [
       "      id                         listing_url       scrape_id last_scraped  \\\n",
       "0  42196  https://www.airbnb.com/rooms/42196  20211217003510   2021-12-17   \n",
       "1  46352  https://www.airbnb.com/rooms/46352  20211217003510   2021-12-17   \n",
       "2  59697  https://www.airbnb.com/rooms/59697  20211217003510   2021-12-17   \n",
       "\n",
       "                                    name  \\\n",
       "0    50 sm Studio in the historic centre   \n",
       "1             A room in Pasolini's house   \n",
       "2  COZY LARGE BEDROOM in the city center   \n",
       "\n",
       "                                         description  \\\n",
       "0  <b>The space</b><br />Really cozy and typical ...   \n",
       "1  Simple, cozy and silent room in a lived house ...   \n",
       "2  Cozy, spacious and bright double bedroom, in a...   \n",
       "\n",
       "                               neighborhood_overview  \\\n",
       "0                                                NaN   \n",
       "1  In the very nearby you have Via Saragozza whic...   \n",
       "2                                                NaN   \n",
       "\n",
       "                                         picture_url  host_id  \\\n",
       "0  https://a0.muscache.com/pictures/4775726/68044...   184487   \n",
       "1  https://a0.muscache.com/pictures/9f94acc3-98fc...   467810   \n",
       "2  https://a0.muscache.com/pictures/ac0528c4-b26f...   286688   \n",
       "\n",
       "                                   host_url  ... review_scores_value license  \\\n",
       "0  https://www.airbnb.com/users/show/184487  ...                4.70     NaN   \n",
       "1  https://www.airbnb.com/users/show/467810  ...                4.59     NaN   \n",
       "2  https://www.airbnb.com/users/show/286688  ...                4.66     NaN   \n",
       "\n",
       "  instant_bookable calculated_host_listings_count  \\\n",
       "0                t                              1   \n",
       "1                f                              2   \n",
       "2                f                              2   \n",
       "\n",
       "  calculated_host_listings_count_entire_homes  \\\n",
       "0                                           1   \n",
       "1                                           0   \n",
       "2                                           0   \n",
       "\n",
       "  calculated_host_listings_count_private_rooms  \\\n",
       "0                                            0   \n",
       "1                                            2   \n",
       "2                                            2   \n",
       "\n",
       "  calculated_host_listings_count_shared_rooms reviews_per_month kitchen   wifi  \n",
       "0                                           0              1.32    True  False  \n",
       "1                                           0              2.20    True  False  \n",
       "2                                           0              2.18    True  False  \n",
       "\n",
       "[3 rows x 76 columns]"
      ]
     },
     "execution_count": 187,
     "metadata": {},
     "output_type": "execute_result"
    }
   ],
   "source": [
    "listings = pd.concat([listings, listings['amenities'].str.get_dummies(sep='\", \"').astype(bool)[['Kitchen', 'Wifi']]], axis=1)\n",
    "listings = listings.rename(columns = {'Kitchen': 'kitchen', 'Wifi': 'wifi'})\n",
    "listings.head(3)"
   ]
  },
  {
   "cell_type": "markdown",
   "metadata": {
    "pycharm": {
     "name": "#%% md\n"
    }
   },
   "source": [
    "2. Selecting relevant columns for the Bayesian Network"
   ]
  },
  {
   "cell_type": "code",
   "execution_count": 188,
   "metadata": {
    "pycharm": {
     "name": "#%%\n"
    }
   },
   "outputs": [
    {
     "data": {
      "text/html": [
       "<div>\n",
       "<style scoped>\n",
       "    .dataframe tbody tr th:only-of-type {\n",
       "        vertical-align: middle;\n",
       "    }\n",
       "\n",
       "    .dataframe tbody tr th {\n",
       "        vertical-align: top;\n",
       "    }\n",
       "\n",
       "    .dataframe thead th {\n",
       "        text-align: right;\n",
       "    }\n",
       "</style>\n",
       "<table border=\"1\" class=\"dataframe\">\n",
       "  <thead>\n",
       "    <tr style=\"text-align: right;\">\n",
       "      <th></th>\n",
       "      <th>id</th>\n",
       "      <th>neighbourhood_cleansed</th>\n",
       "      <th>room_type</th>\n",
       "      <th>accommodates</th>\n",
       "      <th>bathrooms_text</th>\n",
       "      <th>price</th>\n",
       "      <th>kitchen</th>\n",
       "      <th>wifi</th>\n",
       "    </tr>\n",
       "  </thead>\n",
       "  <tbody>\n",
       "    <tr>\n",
       "      <th>0</th>\n",
       "      <td>42196</td>\n",
       "      <td>Santo Stefano</td>\n",
       "      <td>Entire home/apt</td>\n",
       "      <td>2</td>\n",
       "      <td>1 bath</td>\n",
       "      <td>$68.00</td>\n",
       "      <td>True</td>\n",
       "      <td>False</td>\n",
       "    </tr>\n",
       "    <tr>\n",
       "      <th>1</th>\n",
       "      <td>46352</td>\n",
       "      <td>Porto - Saragozza</td>\n",
       "      <td>Private room</td>\n",
       "      <td>2</td>\n",
       "      <td>1 shared bath</td>\n",
       "      <td>$29.00</td>\n",
       "      <td>True</td>\n",
       "      <td>False</td>\n",
       "    </tr>\n",
       "    <tr>\n",
       "      <th>2</th>\n",
       "      <td>59697</td>\n",
       "      <td>Santo Stefano</td>\n",
       "      <td>Private room</td>\n",
       "      <td>2</td>\n",
       "      <td>1 shared bath</td>\n",
       "      <td>$50.00</td>\n",
       "      <td>True</td>\n",
       "      <td>False</td>\n",
       "    </tr>\n",
       "  </tbody>\n",
       "</table>\n",
       "</div>"
      ],
      "text/plain": [
       "      id neighbourhood_cleansed        room_type  accommodates bathrooms_text  \\\n",
       "0  42196          Santo Stefano  Entire home/apt             2         1 bath   \n",
       "1  46352      Porto - Saragozza     Private room             2  1 shared bath   \n",
       "2  59697          Santo Stefano     Private room             2  1 shared bath   \n",
       "\n",
       "    price  kitchen   wifi  \n",
       "0  $68.00     True  False  \n",
       "1  $29.00     True  False  \n",
       "2  $50.00     True  False  "
      ]
     },
     "execution_count": 188,
     "metadata": {},
     "output_type": "execute_result"
    }
   ],
   "source": [
    "columns = ['id', 'neighbourhood_cleansed', 'room_type', 'accommodates', 'bathrooms_text', 'price', 'kitchen', 'wifi']\n",
    "listings_selection = listings.loc[:, columns]\n",
    "listings_selection.head(3)"
   ]
  },
  {
   "cell_type": "markdown",
   "metadata": {
    "pycharm": {
     "name": "#%% md\n"
    }
   },
   "source": [
    "3. Parsing price into float"
   ]
  },
  {
   "cell_type": "code",
   "execution_count": 189,
   "metadata": {
    "pycharm": {
     "name": "#%%\n"
    }
   },
   "outputs": [
    {
     "data": {
      "text/html": [
       "<div>\n",
       "<style scoped>\n",
       "    .dataframe tbody tr th:only-of-type {\n",
       "        vertical-align: middle;\n",
       "    }\n",
       "\n",
       "    .dataframe tbody tr th {\n",
       "        vertical-align: top;\n",
       "    }\n",
       "\n",
       "    .dataframe thead th {\n",
       "        text-align: right;\n",
       "    }\n",
       "</style>\n",
       "<table border=\"1\" class=\"dataframe\">\n",
       "  <thead>\n",
       "    <tr style=\"text-align: right;\">\n",
       "      <th></th>\n",
       "      <th>id</th>\n",
       "      <th>neighbourhood_cleansed</th>\n",
       "      <th>room_type</th>\n",
       "      <th>accommodates</th>\n",
       "      <th>bathrooms_text</th>\n",
       "      <th>price</th>\n",
       "      <th>kitchen</th>\n",
       "      <th>wifi</th>\n",
       "    </tr>\n",
       "  </thead>\n",
       "  <tbody>\n",
       "    <tr>\n",
       "      <th>0</th>\n",
       "      <td>42196</td>\n",
       "      <td>Santo Stefano</td>\n",
       "      <td>Entire home/apt</td>\n",
       "      <td>2</td>\n",
       "      <td>1 bath</td>\n",
       "      <td>68.0</td>\n",
       "      <td>True</td>\n",
       "      <td>False</td>\n",
       "    </tr>\n",
       "    <tr>\n",
       "      <th>1</th>\n",
       "      <td>46352</td>\n",
       "      <td>Porto - Saragozza</td>\n",
       "      <td>Private room</td>\n",
       "      <td>2</td>\n",
       "      <td>1 shared bath</td>\n",
       "      <td>29.0</td>\n",
       "      <td>True</td>\n",
       "      <td>False</td>\n",
       "    </tr>\n",
       "    <tr>\n",
       "      <th>2</th>\n",
       "      <td>59697</td>\n",
       "      <td>Santo Stefano</td>\n",
       "      <td>Private room</td>\n",
       "      <td>2</td>\n",
       "      <td>1 shared bath</td>\n",
       "      <td>50.0</td>\n",
       "      <td>True</td>\n",
       "      <td>False</td>\n",
       "    </tr>\n",
       "  </tbody>\n",
       "</table>\n",
       "</div>"
      ],
      "text/plain": [
       "      id neighbourhood_cleansed        room_type  accommodates bathrooms_text  \\\n",
       "0  42196          Santo Stefano  Entire home/apt             2         1 bath   \n",
       "1  46352      Porto - Saragozza     Private room             2  1 shared bath   \n",
       "2  59697          Santo Stefano     Private room             2  1 shared bath   \n",
       "\n",
       "   price  kitchen   wifi  \n",
       "0   68.0     True  False  \n",
       "1   29.0     True  False  \n",
       "2   50.0     True  False  "
      ]
     },
     "execution_count": 189,
     "metadata": {},
     "output_type": "execute_result"
    }
   ],
   "source": [
    "listings_selection.loc[:, 'price'] = listings_selection.loc[:, 'price'].str.replace(r'[$|,]', '', regex=True).astype(float)\n",
    "listings_selection.head(3)"
   ]
  },
  {
   "cell_type": "markdown",
   "metadata": {
    "pycharm": {
     "name": "#%% md\n"
    }
   },
   "source": [
    "5. Encoding shared bathroom into boolean"
   ]
  },
  {
   "cell_type": "code",
   "execution_count": 190,
   "metadata": {
    "pycharm": {
     "name": "#%%\n"
    }
   },
   "outputs": [
    {
     "data": {
      "text/html": [
       "<div>\n",
       "<style scoped>\n",
       "    .dataframe tbody tr th:only-of-type {\n",
       "        vertical-align: middle;\n",
       "    }\n",
       "\n",
       "    .dataframe tbody tr th {\n",
       "        vertical-align: top;\n",
       "    }\n",
       "\n",
       "    .dataframe thead th {\n",
       "        text-align: right;\n",
       "    }\n",
       "</style>\n",
       "<table border=\"1\" class=\"dataframe\">\n",
       "  <thead>\n",
       "    <tr style=\"text-align: right;\">\n",
       "      <th></th>\n",
       "      <th>id</th>\n",
       "      <th>neighbourhood_cleansed</th>\n",
       "      <th>room_type</th>\n",
       "      <th>accommodates</th>\n",
       "      <th>shared_bathroom</th>\n",
       "      <th>price</th>\n",
       "      <th>kitchen</th>\n",
       "      <th>wifi</th>\n",
       "    </tr>\n",
       "  </thead>\n",
       "  <tbody>\n",
       "    <tr>\n",
       "      <th>0</th>\n",
       "      <td>42196</td>\n",
       "      <td>Santo Stefano</td>\n",
       "      <td>Entire home/apt</td>\n",
       "      <td>2</td>\n",
       "      <td>False</td>\n",
       "      <td>68.0</td>\n",
       "      <td>True</td>\n",
       "      <td>False</td>\n",
       "    </tr>\n",
       "    <tr>\n",
       "      <th>1</th>\n",
       "      <td>46352</td>\n",
       "      <td>Porto - Saragozza</td>\n",
       "      <td>Private room</td>\n",
       "      <td>2</td>\n",
       "      <td>True</td>\n",
       "      <td>29.0</td>\n",
       "      <td>True</td>\n",
       "      <td>False</td>\n",
       "    </tr>\n",
       "    <tr>\n",
       "      <th>2</th>\n",
       "      <td>59697</td>\n",
       "      <td>Santo Stefano</td>\n",
       "      <td>Private room</td>\n",
       "      <td>2</td>\n",
       "      <td>True</td>\n",
       "      <td>50.0</td>\n",
       "      <td>True</td>\n",
       "      <td>False</td>\n",
       "    </tr>\n",
       "  </tbody>\n",
       "</table>\n",
       "</div>"
      ],
      "text/plain": [
       "      id neighbourhood_cleansed        room_type  accommodates  \\\n",
       "0  42196          Santo Stefano  Entire home/apt             2   \n",
       "1  46352      Porto - Saragozza     Private room             2   \n",
       "2  59697          Santo Stefano     Private room             2   \n",
       "\n",
       "  shared_bathroom  price  kitchen   wifi  \n",
       "0           False   68.0     True  False  \n",
       "1            True   29.0     True  False  \n",
       "2            True   50.0     True  False  "
      ]
     },
     "execution_count": 190,
     "metadata": {},
     "output_type": "execute_result"
    }
   ],
   "source": [
    "listings_selection.loc[:, 'bathrooms_text'] = listings_selection.loc[:, 'bathrooms_text'].str.contains('shared')\n",
    "listings_selection = listings_selection.rename(columns = {'bathrooms_text': 'shared_bathroom'})\n",
    "listings_selection.head(3)"
   ]
  },
  {
   "cell_type": "markdown",
   "metadata": {
    "pycharm": {
     "name": "#%% md\n"
    }
   },
   "source": [
    "6. Discretizing price into 4 categories: '0-50', '50-150', '150-500', '>500'"
   ]
  },
  {
   "cell_type": "code",
   "execution_count": 191,
   "metadata": {
    "pycharm": {
     "name": "#%%\n"
    }
   },
   "outputs": [
    {
     "data": {
      "text/html": [
       "<div>\n",
       "<style scoped>\n",
       "    .dataframe tbody tr th:only-of-type {\n",
       "        vertical-align: middle;\n",
       "    }\n",
       "\n",
       "    .dataframe tbody tr th {\n",
       "        vertical-align: top;\n",
       "    }\n",
       "\n",
       "    .dataframe thead th {\n",
       "        text-align: right;\n",
       "    }\n",
       "</style>\n",
       "<table border=\"1\" class=\"dataframe\">\n",
       "  <thead>\n",
       "    <tr style=\"text-align: right;\">\n",
       "      <th></th>\n",
       "      <th>id</th>\n",
       "      <th>neighbourhood_cleansed</th>\n",
       "      <th>room_type</th>\n",
       "      <th>accommodates</th>\n",
       "      <th>shared_bathroom</th>\n",
       "      <th>price</th>\n",
       "      <th>kitchen</th>\n",
       "      <th>wifi</th>\n",
       "    </tr>\n",
       "  </thead>\n",
       "  <tbody>\n",
       "    <tr>\n",
       "      <th>0</th>\n",
       "      <td>42196</td>\n",
       "      <td>Santo Stefano</td>\n",
       "      <td>Entire home/apt</td>\n",
       "      <td>2</td>\n",
       "      <td>False</td>\n",
       "      <td>50-150</td>\n",
       "      <td>True</td>\n",
       "      <td>False</td>\n",
       "    </tr>\n",
       "    <tr>\n",
       "      <th>1</th>\n",
       "      <td>46352</td>\n",
       "      <td>Porto - Saragozza</td>\n",
       "      <td>Private room</td>\n",
       "      <td>2</td>\n",
       "      <td>True</td>\n",
       "      <td>0-50</td>\n",
       "      <td>True</td>\n",
       "      <td>False</td>\n",
       "    </tr>\n",
       "    <tr>\n",
       "      <th>2</th>\n",
       "      <td>59697</td>\n",
       "      <td>Santo Stefano</td>\n",
       "      <td>Private room</td>\n",
       "      <td>2</td>\n",
       "      <td>True</td>\n",
       "      <td>0-50</td>\n",
       "      <td>True</td>\n",
       "      <td>False</td>\n",
       "    </tr>\n",
       "    <tr>\n",
       "      <th>3</th>\n",
       "      <td>85368</td>\n",
       "      <td>Santo Stefano</td>\n",
       "      <td>Entire home/apt</td>\n",
       "      <td>2</td>\n",
       "      <td>False</td>\n",
       "      <td>50-150</td>\n",
       "      <td>True</td>\n",
       "      <td>True</td>\n",
       "    </tr>\n",
       "    <tr>\n",
       "      <th>4</th>\n",
       "      <td>145779</td>\n",
       "      <td>Porto - Saragozza</td>\n",
       "      <td>Private room</td>\n",
       "      <td>1</td>\n",
       "      <td>True</td>\n",
       "      <td>0-50</td>\n",
       "      <td>False</td>\n",
       "      <td>False</td>\n",
       "    </tr>\n",
       "    <tr>\n",
       "      <th>5</th>\n",
       "      <td>209692</td>\n",
       "      <td>Navile</td>\n",
       "      <td>Private room</td>\n",
       "      <td>1</td>\n",
       "      <td>True</td>\n",
       "      <td>0-50</td>\n",
       "      <td>True</td>\n",
       "      <td>False</td>\n",
       "    </tr>\n",
       "    <tr>\n",
       "      <th>6</th>\n",
       "      <td>219878</td>\n",
       "      <td>Santo Stefano</td>\n",
       "      <td>Entire home/apt</td>\n",
       "      <td>2</td>\n",
       "      <td>False</td>\n",
       "      <td>50-150</td>\n",
       "      <td>True</td>\n",
       "      <td>True</td>\n",
       "    </tr>\n",
       "    <tr>\n",
       "      <th>7</th>\n",
       "      <td>229114</td>\n",
       "      <td>Navile</td>\n",
       "      <td>Entire home/apt</td>\n",
       "      <td>4</td>\n",
       "      <td>False</td>\n",
       "      <td>50-150</td>\n",
       "      <td>True</td>\n",
       "      <td>False</td>\n",
       "    </tr>\n",
       "    <tr>\n",
       "      <th>8</th>\n",
       "      <td>233922</td>\n",
       "      <td>Porto - Saragozza</td>\n",
       "      <td>Entire home/apt</td>\n",
       "      <td>5</td>\n",
       "      <td>False</td>\n",
       "      <td>50-150</td>\n",
       "      <td>True</td>\n",
       "      <td>True</td>\n",
       "    </tr>\n",
       "    <tr>\n",
       "      <th>9</th>\n",
       "      <td>246747</td>\n",
       "      <td>Porto - Saragozza</td>\n",
       "      <td>Private room</td>\n",
       "      <td>2</td>\n",
       "      <td>True</td>\n",
       "      <td>50-150</td>\n",
       "      <td>False</td>\n",
       "      <td>True</td>\n",
       "    </tr>\n",
       "  </tbody>\n",
       "</table>\n",
       "</div>"
      ],
      "text/plain": [
       "       id neighbourhood_cleansed        room_type  accommodates  \\\n",
       "0   42196          Santo Stefano  Entire home/apt             2   \n",
       "1   46352      Porto - Saragozza     Private room             2   \n",
       "2   59697          Santo Stefano     Private room             2   \n",
       "3   85368          Santo Stefano  Entire home/apt             2   \n",
       "4  145779      Porto - Saragozza     Private room             1   \n",
       "5  209692                 Navile     Private room             1   \n",
       "6  219878          Santo Stefano  Entire home/apt             2   \n",
       "7  229114                 Navile  Entire home/apt             4   \n",
       "8  233922      Porto - Saragozza  Entire home/apt             5   \n",
       "9  246747      Porto - Saragozza     Private room             2   \n",
       "\n",
       "  shared_bathroom   price  kitchen   wifi  \n",
       "0           False  50-150     True  False  \n",
       "1            True    0-50     True  False  \n",
       "2            True    0-50     True  False  \n",
       "3           False  50-150     True   True  \n",
       "4            True    0-50    False  False  \n",
       "5            True    0-50     True  False  \n",
       "6           False  50-150     True   True  \n",
       "7           False  50-150     True  False  \n",
       "8           False  50-150     True   True  \n",
       "9            True  50-150    False   True  "
      ]
     },
     "execution_count": 191,
     "metadata": {},
     "output_type": "execute_result"
    }
   ],
   "source": [
    "listings_selection['price'], bins = pd.cut(listings_selection['price'], [0, 50, 150, 500, 10000], labels=['0-50', '50-150', '150-500', '>500'], retbins=True)\n",
    "listings_selection.head(10)\n"
   ]
  },
  {
   "cell_type": "code",
   "execution_count": 192,
   "metadata": {
    "pycharm": {
     "name": "#%%\n"
    }
   },
   "outputs": [
    {
     "data": {
      "text/html": [
       "<div>\n",
       "<style scoped>\n",
       "    .dataframe tbody tr th:only-of-type {\n",
       "        vertical-align: middle;\n",
       "    }\n",
       "\n",
       "    .dataframe tbody tr th {\n",
       "        vertical-align: top;\n",
       "    }\n",
       "\n",
       "    .dataframe thead th {\n",
       "        text-align: right;\n",
       "    }\n",
       "</style>\n",
       "<table border=\"1\" class=\"dataframe\">\n",
       "  <thead>\n",
       "    <tr style=\"text-align: right;\">\n",
       "      <th></th>\n",
       "      <th>id</th>\n",
       "      <th>neighbourhood_cleansed</th>\n",
       "      <th>room_type</th>\n",
       "      <th>accommodates</th>\n",
       "      <th>shared_bathroom</th>\n",
       "      <th>kitchen</th>\n",
       "      <th>wifi</th>\n",
       "    </tr>\n",
       "    <tr>\n",
       "      <th>price</th>\n",
       "      <th></th>\n",
       "      <th></th>\n",
       "      <th></th>\n",
       "      <th></th>\n",
       "      <th></th>\n",
       "      <th></th>\n",
       "      <th></th>\n",
       "    </tr>\n",
       "  </thead>\n",
       "  <tbody>\n",
       "    <tr>\n",
       "      <th>0-50</th>\n",
       "      <td>813</td>\n",
       "      <td>813</td>\n",
       "      <td>813</td>\n",
       "      <td>813</td>\n",
       "      <td>813</td>\n",
       "      <td>813</td>\n",
       "      <td>813</td>\n",
       "    </tr>\n",
       "    <tr>\n",
       "      <th>50-150</th>\n",
       "      <td>2242</td>\n",
       "      <td>2242</td>\n",
       "      <td>2242</td>\n",
       "      <td>2242</td>\n",
       "      <td>2241</td>\n",
       "      <td>2242</td>\n",
       "      <td>2242</td>\n",
       "    </tr>\n",
       "    <tr>\n",
       "      <th>150-500</th>\n",
       "      <td>318</td>\n",
       "      <td>318</td>\n",
       "      <td>318</td>\n",
       "      <td>318</td>\n",
       "      <td>314</td>\n",
       "      <td>318</td>\n",
       "      <td>318</td>\n",
       "    </tr>\n",
       "    <tr>\n",
       "      <th>&gt;500</th>\n",
       "      <td>80</td>\n",
       "      <td>80</td>\n",
       "      <td>80</td>\n",
       "      <td>80</td>\n",
       "      <td>80</td>\n",
       "      <td>80</td>\n",
       "      <td>80</td>\n",
       "    </tr>\n",
       "  </tbody>\n",
       "</table>\n",
       "</div>"
      ],
      "text/plain": [
       "           id  neighbourhood_cleansed  room_type  accommodates  \\\n",
       "price                                                            \n",
       "0-50      813                     813        813           813   \n",
       "50-150   2242                    2242       2242          2242   \n",
       "150-500   318                     318        318           318   \n",
       ">500       80                      80         80            80   \n",
       "\n",
       "         shared_bathroom  kitchen  wifi  \n",
       "price                                    \n",
       "0-50                 813      813   813  \n",
       "50-150              2241     2242  2242  \n",
       "150-500              314      318   318  \n",
       ">500                  80       80    80  "
      ]
     },
     "execution_count": 192,
     "metadata": {},
     "output_type": "execute_result"
    }
   ],
   "source": [
    "listings_selection.groupby(by='price').count()"
   ]
  },
  {
   "cell_type": "markdown",
   "metadata": {
    "pycharm": {
     "name": "#%% md\n"
    }
   },
   "source": [
    "7. Counting NaN values and removing them"
   ]
  },
  {
   "cell_type": "code",
   "execution_count": 193,
   "metadata": {
    "pycharm": {
     "name": "#%%\n"
    }
   },
   "outputs": [
    {
     "name": "stdout",
     "output_type": "stream",
     "text": [
      "Number of rows before cleaning: 3453\n",
      "Number of rows after cleaning: 3448\n"
     ]
    },
    {
     "data": {
      "text/html": [
       "<div>\n",
       "<style scoped>\n",
       "    .dataframe tbody tr th:only-of-type {\n",
       "        vertical-align: middle;\n",
       "    }\n",
       "\n",
       "    .dataframe tbody tr th {\n",
       "        vertical-align: top;\n",
       "    }\n",
       "\n",
       "    .dataframe thead th {\n",
       "        text-align: right;\n",
       "    }\n",
       "</style>\n",
       "<table border=\"1\" class=\"dataframe\">\n",
       "  <thead>\n",
       "    <tr style=\"text-align: right;\">\n",
       "      <th></th>\n",
       "      <th>id</th>\n",
       "      <th>neighbourhood_cleansed</th>\n",
       "      <th>room_type</th>\n",
       "      <th>accommodates</th>\n",
       "      <th>shared_bathroom</th>\n",
       "      <th>kitchen</th>\n",
       "      <th>wifi</th>\n",
       "    </tr>\n",
       "    <tr>\n",
       "      <th>price</th>\n",
       "      <th></th>\n",
       "      <th></th>\n",
       "      <th></th>\n",
       "      <th></th>\n",
       "      <th></th>\n",
       "      <th></th>\n",
       "      <th></th>\n",
       "    </tr>\n",
       "  </thead>\n",
       "  <tbody>\n",
       "    <tr>\n",
       "      <th>0-50</th>\n",
       "      <td>813</td>\n",
       "      <td>813</td>\n",
       "      <td>813</td>\n",
       "      <td>813</td>\n",
       "      <td>813</td>\n",
       "      <td>813</td>\n",
       "      <td>813</td>\n",
       "    </tr>\n",
       "    <tr>\n",
       "      <th>50-150</th>\n",
       "      <td>2241</td>\n",
       "      <td>2241</td>\n",
       "      <td>2241</td>\n",
       "      <td>2241</td>\n",
       "      <td>2241</td>\n",
       "      <td>2241</td>\n",
       "      <td>2241</td>\n",
       "    </tr>\n",
       "    <tr>\n",
       "      <th>150-500</th>\n",
       "      <td>314</td>\n",
       "      <td>314</td>\n",
       "      <td>314</td>\n",
       "      <td>314</td>\n",
       "      <td>314</td>\n",
       "      <td>314</td>\n",
       "      <td>314</td>\n",
       "    </tr>\n",
       "    <tr>\n",
       "      <th>&gt;500</th>\n",
       "      <td>80</td>\n",
       "      <td>80</td>\n",
       "      <td>80</td>\n",
       "      <td>80</td>\n",
       "      <td>80</td>\n",
       "      <td>80</td>\n",
       "      <td>80</td>\n",
       "    </tr>\n",
       "  </tbody>\n",
       "</table>\n",
       "</div>"
      ],
      "text/plain": [
       "           id  neighbourhood_cleansed  room_type  accommodates  \\\n",
       "price                                                            \n",
       "0-50      813                     813        813           813   \n",
       "50-150   2241                    2241       2241          2241   \n",
       "150-500   314                     314        314           314   \n",
       ">500       80                      80         80            80   \n",
       "\n",
       "         shared_bathroom  kitchen  wifi  \n",
       "price                                    \n",
       "0-50                 813      813   813  \n",
       "50-150              2241     2241  2241  \n",
       "150-500              314      314   314  \n",
       ">500                  80       80    80  "
      ]
     },
     "execution_count": 193,
     "metadata": {},
     "output_type": "execute_result"
    }
   ],
   "source": [
    "print(f'Number of rows before cleaning: {listings_selection.shape[0]}')\n",
    "listings_cleaned = listings_selection.dropna()\n",
    "print(f'Number of rows after cleaning: {listings_clean.shape[0]}')\n",
    "\n",
    "listings_cleaned.groupby(by='price').count()"
   ]
  },
  {
   "cell_type": "markdown",
   "metadata": {
    "pycharm": {
     "name": "#%% md\n"
    }
   },
   "source": [
    "8. Storing unique values and cardinalities"
   ]
  },
  {
   "cell_type": "code",
   "execution_count": 194,
   "metadata": {
    "pycharm": {
     "name": "#%%\n"
    }
   },
   "outputs": [
    {
     "name": "stdout",
     "output_type": "stream",
     "text": [
      "Neighbourhood cardinality: 6\n",
      "Neighbourhood values: ['Santo Stefano' 'Porto - Saragozza' 'Navile' 'San Donato - San Vitale'\n",
      " 'Savena' 'Borgo Panigale - Reno']\n",
      "\n",
      "Room type cardinality: 4\n",
      "Room Type values: ['Entire home/apt' 'Private room' 'Hotel room' 'Shared room']\n",
      "\n",
      "Accommodates cardinality: 16\n",
      "Accommodates values: [ 2  1  4  5  3  6  9  8  7 10 13 16 12 11 15 14]\n",
      "\n",
      "Shared bathroom cardinality: 2\n",
      "Shared bathroom values: [True, False]\n",
      "\n",
      "Kitchen cardinality: 2\n",
      "Kitchen values: [True, False]\n",
      "\n",
      "Wifi cardinality: 2\n",
      "Wifi values: [True, False]\n",
      "\n",
      "Price cardinality: 4\n",
      "Price values: ['0-50', '50-150', '150-500', '>500']\n",
      "\n"
     ]
    }
   ],
   "source": [
    "neighbourhood_v = listings_clean['neighbourhood_cleansed'].unique()\n",
    "neighbourhood_c = len(neighbourhood_v)\n",
    "print(f'Neighbourhood cardinality: {neighbourhood_c}\\nNeighbourhood values: {neighbourhood_v}\\n')\n",
    "\n",
    "roomtype_v = listings_clean['room_type'].unique()\n",
    "roomtype_c = len(roomtype_v)\n",
    "print(f'Room type cardinality: {roomtype_c}\\nRoom Type values: {roomtype_v}\\n')\n",
    "\n",
    "accommodates_v = listings_clean['accommodates'].unique()\n",
    "accommodates_c = len(accommodates_v)\n",
    "print(f'Accommodates cardinality: {accommodates_c}\\nAccommodates values: {accommodates_v}\\n')\n",
    "\n",
    "sharedbathroom_v = [True, False]\n",
    "sharedbathroom_c = 2\n",
    "print(f'Shared bathroom cardinality: {sharedbathroom_c}\\nShared bathroom values: {sharedbathroom_v}\\n')\n",
    "\n",
    "kitchen_v = [True, False]\n",
    "kitchen_c = 2\n",
    "print(f'Kitchen cardinality: {kitchen_c}\\nKitchen values: {kitchen_v}\\n')\n",
    "\n",
    "wifi_v = [True, False]\n",
    "wifi_c = 2\n",
    "print(f'Wifi cardinality: {wifi_c}\\nWifi values: {wifi_v}\\n')\n",
    "\n",
    "price_v = ['0-50', '50-150', '150-500', '>500']\n",
    "price_c = 4\n",
    "print(f'Price cardinality: {price_c}\\nPrice values: {price_v}\\n')"
   ]
  },
  {
   "cell_type": "markdown",
   "metadata": {
    "pycharm": {
     "name": "#%% md\n"
    }
   },
   "source": [
    "## Probabilities calculation\n",
    "1. Splitting dataset in train and test"
   ]
  },
  {
   "attachments": {
    "Airbnb%20Bayesan%20Network%20%281%29.jpg": {
     "image/jpeg": "[encoded data removed]"
    }
   },
   "cell_type": "markdown",
   "metadata": {},
   "source": [
    "![Airbnb%20Bayesan%20Network%20%281%29.jpg](attachment:Airbnb%20Bayesan%20Network%20%281%29.jpg)"
   ]
  },
  {
   "cell_type": "markdown",
   "metadata": {},
   "source": [
    "### Neighbourhood probability"
   ]
  },
  {
   "cell_type": "code",
   "execution_count": 196,
   "metadata": {},
   "outputs": [
    {
     "data": {
      "text/html": [
       "<div>\n",
       "<style scoped>\n",
       "    .dataframe tbody tr th:only-of-type {\n",
       "        vertical-align: middle;\n",
       "    }\n",
       "\n",
       "    .dataframe tbody tr th {\n",
       "        vertical-align: top;\n",
       "    }\n",
       "\n",
       "    .dataframe thead th {\n",
       "        text-align: right;\n",
       "    }\n",
       "</style>\n",
       "<table border=\"1\" class=\"dataframe\">\n",
       "  <thead>\n",
       "    <tr style=\"text-align: right;\">\n",
       "      <th></th>\n",
       "      <th>id</th>\n",
       "    </tr>\n",
       "    <tr>\n",
       "      <th>neighbourhood_cleansed</th>\n",
       "      <th></th>\n",
       "    </tr>\n",
       "  </thead>\n",
       "  <tbody>\n",
       "    <tr>\n",
       "      <th>Borgo Panigale - Reno</th>\n",
       "      <td>0.042343</td>\n",
       "    </tr>\n",
       "    <tr>\n",
       "      <th>Navile</th>\n",
       "      <td>0.116879</td>\n",
       "    </tr>\n",
       "    <tr>\n",
       "      <th>Porto - Saragozza</th>\n",
       "      <td>0.337877</td>\n",
       "    </tr>\n",
       "    <tr>\n",
       "      <th>San Donato - San Vitale</th>\n",
       "      <td>0.121520</td>\n",
       "    </tr>\n",
       "    <tr>\n",
       "      <th>Santo Stefano</th>\n",
       "      <td>0.345998</td>\n",
       "    </tr>\n",
       "    <tr>\n",
       "      <th>Savena</th>\n",
       "      <td>0.035383</td>\n",
       "    </tr>\n",
       "  </tbody>\n",
       "</table>\n",
       "</div>"
      ],
      "text/plain": [
       "                               id\n",
       "neighbourhood_cleansed           \n",
       "Borgo Panigale - Reno    0.042343\n",
       "Navile                   0.116879\n",
       "Porto - Saragozza        0.337877\n",
       "San Donato - San Vitale  0.121520\n",
       "Santo Stefano            0.345998\n",
       "Savena                   0.035383"
      ]
     },
     "metadata": {},
     "output_type": "display_data"
    }
   ],
   "source": [
    "neighbourhood_prob = listings_cleaned.groupby(['neighbourhood_cleansed']).count()[['id']] / listings_cleaned.shape[0]\n",
    "display(neighbourhood_prob)\n",
    "\n",
    "neighbourhood_prob = np.array(neighbourhood_prob).reshape((neighbourhood_c, 1))"
   ]
  },
  {
   "cell_type": "markdown",
   "metadata": {},
   "source": [
    "### Wifi probability"
   ]
  },
  {
   "cell_type": "code",
   "execution_count": 197,
   "metadata": {},
   "outputs": [
    {
     "data": {
      "text/html": [
       "<div>\n",
       "<style scoped>\n",
       "    .dataframe tbody tr th:only-of-type {\n",
       "        vertical-align: middle;\n",
       "    }\n",
       "\n",
       "    .dataframe tbody tr th {\n",
       "        vertical-align: top;\n",
       "    }\n",
       "\n",
       "    .dataframe thead th {\n",
       "        text-align: right;\n",
       "    }\n",
       "</style>\n",
       "<table border=\"1\" class=\"dataframe\">\n",
       "  <thead>\n",
       "    <tr style=\"text-align: right;\">\n",
       "      <th></th>\n",
       "      <th>id</th>\n",
       "    </tr>\n",
       "    <tr>\n",
       "      <th>wifi</th>\n",
       "      <th></th>\n",
       "    </tr>\n",
       "  </thead>\n",
       "  <tbody>\n",
       "    <tr>\n",
       "      <th>False</th>\n",
       "      <td>0.566125</td>\n",
       "    </tr>\n",
       "    <tr>\n",
       "      <th>True</th>\n",
       "      <td>0.433875</td>\n",
       "    </tr>\n",
       "  </tbody>\n",
       "</table>\n",
       "</div>"
      ],
      "text/plain": [
       "             id\n",
       "wifi           \n",
       "False  0.566125\n",
       "True   0.433875"
      ]
     },
     "metadata": {},
     "output_type": "display_data"
    }
   ],
   "source": [
    "wifi_prob = listings_cleaned.groupby(['wifi']).count()[['id']] / listings_cleaned.shape[0]\n",
    "display(wifi_prob)\n",
    "\n",
    "wifi_prob = np.array(wifi_prob).reshape((wifi_c, 1))"
   ]
  },
  {
   "cell_type": "markdown",
   "metadata": {},
   "source": [
    "### Room type probability"
   ]
  },
  {
   "cell_type": "code",
   "execution_count": 198,
   "metadata": {},
   "outputs": [
    {
     "data": {
      "text/plain": [
       "room_type        neighbourhood_cleansed \n",
       "Entire home/apt  Borgo Panigale - Reno      107\n",
       "                 Navile                     250\n",
       "                 Porto - Saragozza          842\n",
       "                 San Donato - San Vitale    280\n",
       "                 Santo Stefano              924\n",
       "                 Savena                      73\n",
       "Hotel room       Navile                       3\n",
       "                 Porto - Saragozza           16\n",
       "                 San Donato - San Vitale      1\n",
       "                 Santo Stefano               27\n",
       "Private room     Borgo Panigale - Reno       39\n",
       "                 Navile                     149\n",
       "                 Porto - Saragozza          297\n",
       "                 San Donato - San Vitale    134\n",
       "                 Santo Stefano              237\n",
       "                 Savena                      47\n",
       "Shared room      Navile                       1\n",
       "                 Porto - Saragozza           10\n",
       "                 San Donato - San Vitale      4\n",
       "                 Santo Stefano                5\n",
       "                 Savena                       2\n",
       "dtype: int64"
      ]
     },
     "execution_count": 198,
     "metadata": {},
     "output_type": "execute_result"
    }
   ],
   "source": [
    "roomtype_neighbourhood_count = listings_cleaned.groupby(['room_type', 'neighbourhood_cleansed']).size()\n",
    "roomtype_neighbourhood_count"
   ]
  },
  {
   "cell_type": "code",
   "execution_count": 199,
   "metadata": {},
   "outputs": [
    {
     "data": {
      "text/plain": [
       "neighbourhood_cleansed\n",
       "Borgo Panigale - Reno       146\n",
       "Navile                      403\n",
       "Porto - Saragozza          1165\n",
       "San Donato - San Vitale     419\n",
       "Santo Stefano              1193\n",
       "Savena                      122\n",
       "dtype: int64"
      ]
     },
     "execution_count": 199,
     "metadata": {},
     "output_type": "execute_result"
    }
   ],
   "source": [
    "neighbourhood_count = listings_cleaned.groupby(['neighbourhood_cleansed']).size()\n",
    "neighbourhood_count"
   ]
  },
  {
   "cell_type": "code",
   "execution_count": 200,
   "metadata": {
    "scrolled": true
   },
   "outputs": [
    {
     "data": {
      "text/html": [
       "<div>\n",
       "<style scoped>\n",
       "    .dataframe tbody tr th:only-of-type {\n",
       "        vertical-align: middle;\n",
       "    }\n",
       "\n",
       "    .dataframe tbody tr th {\n",
       "        vertical-align: top;\n",
       "    }\n",
       "\n",
       "    .dataframe thead th {\n",
       "        text-align: right;\n",
       "    }\n",
       "</style>\n",
       "<table border=\"1\" class=\"dataframe\">\n",
       "  <thead>\n",
       "    <tr style=\"text-align: right;\">\n",
       "      <th>neighbourhood_cleansed</th>\n",
       "      <th>Borgo Panigale - Reno</th>\n",
       "      <th>Navile</th>\n",
       "      <th>Porto - Saragozza</th>\n",
       "      <th>San Donato - San Vitale</th>\n",
       "      <th>Santo Stefano</th>\n",
       "      <th>Savena</th>\n",
       "    </tr>\n",
       "    <tr>\n",
       "      <th>room_type</th>\n",
       "      <th></th>\n",
       "      <th></th>\n",
       "      <th></th>\n",
       "      <th></th>\n",
       "      <th></th>\n",
       "      <th></th>\n",
       "    </tr>\n",
       "  </thead>\n",
       "  <tbody>\n",
       "    <tr>\n",
       "      <th>Entire home/apt</th>\n",
       "      <td>0.732877</td>\n",
       "      <td>0.620347</td>\n",
       "      <td>0.722747</td>\n",
       "      <td>0.668258</td>\n",
       "      <td>0.774518</td>\n",
       "      <td>0.598361</td>\n",
       "    </tr>\n",
       "    <tr>\n",
       "      <th>Hotel room</th>\n",
       "      <td>0.000000</td>\n",
       "      <td>0.007444</td>\n",
       "      <td>0.013734</td>\n",
       "      <td>0.002387</td>\n",
       "      <td>0.022632</td>\n",
       "      <td>0.000000</td>\n",
       "    </tr>\n",
       "    <tr>\n",
       "      <th>Private room</th>\n",
       "      <td>0.267123</td>\n",
       "      <td>0.369727</td>\n",
       "      <td>0.254936</td>\n",
       "      <td>0.319809</td>\n",
       "      <td>0.198659</td>\n",
       "      <td>0.385246</td>\n",
       "    </tr>\n",
       "    <tr>\n",
       "      <th>Shared room</th>\n",
       "      <td>0.000000</td>\n",
       "      <td>0.002481</td>\n",
       "      <td>0.008584</td>\n",
       "      <td>0.009547</td>\n",
       "      <td>0.004191</td>\n",
       "      <td>0.016393</td>\n",
       "    </tr>\n",
       "  </tbody>\n",
       "</table>\n",
       "</div>"
      ],
      "text/plain": [
       "neighbourhood_cleansed  Borgo Panigale - Reno    Navile  Porto - Saragozza  \\\n",
       "room_type                                                                    \n",
       "Entire home/apt                      0.732877  0.620347           0.722747   \n",
       "Hotel room                           0.000000  0.007444           0.013734   \n",
       "Private room                         0.267123  0.369727           0.254936   \n",
       "Shared room                          0.000000  0.002481           0.008584   \n",
       "\n",
       "neighbourhood_cleansed  San Donato - San Vitale  Santo Stefano    Savena  \n",
       "room_type                                                                 \n",
       "Entire home/apt                        0.668258       0.774518  0.598361  \n",
       "Hotel room                             0.002387       0.022632  0.000000  \n",
       "Private room                           0.319809       0.198659  0.385246  \n",
       "Shared room                            0.009547       0.004191  0.016393  "
      ]
     },
     "metadata": {},
     "output_type": "display_data"
    }
   ],
   "source": [
    "roomtype_prob = (roomtype_neighbourhood_count / neighbourhood_count).unstack(fill_value=0)\n",
    "display(roomtype_prob)"
   ]
  },
  {
   "cell_type": "markdown",
   "metadata": {},
   "source": [
    "### Kitchen probability"
   ]
  },
  {
   "cell_type": "code",
   "execution_count": 201,
   "metadata": {},
   "outputs": [
    {
     "data": {
      "text/plain": [
       "kitchen  room_type      \n",
       "False    Entire home/apt     145\n",
       "         Hotel room           36\n",
       "         Private room        410\n",
       "         Shared room           5\n",
       "True     Entire home/apt    2331\n",
       "         Hotel room           11\n",
       "         Private room        493\n",
       "         Shared room          17\n",
       "dtype: int64"
      ]
     },
     "execution_count": 201,
     "metadata": {},
     "output_type": "execute_result"
    }
   ],
   "source": [
    "kitchen_roomtype_count = listings_cleaned.groupby(['kitchen', 'room_type']).size()\n",
    "kitchen_roomtype_count"
   ]
  },
  {
   "cell_type": "code",
   "execution_count": 202,
   "metadata": {},
   "outputs": [
    {
     "data": {
      "text/plain": [
       "room_type\n",
       "Entire home/apt    2476\n",
       "Hotel room           47\n",
       "Private room        903\n",
       "Shared room          22\n",
       "dtype: int64"
      ]
     },
     "execution_count": 202,
     "metadata": {},
     "output_type": "execute_result"
    }
   ],
   "source": [
    "roomtype_count = listings_cleaned.groupby(['room_type']).size()\n",
    "roomtype_count"
   ]
  },
  {
   "cell_type": "code",
   "execution_count": 203,
   "metadata": {
    "scrolled": true
   },
   "outputs": [
    {
     "data": {
      "text/html": [
       "<div>\n",
       "<style scoped>\n",
       "    .dataframe tbody tr th:only-of-type {\n",
       "        vertical-align: middle;\n",
       "    }\n",
       "\n",
       "    .dataframe tbody tr th {\n",
       "        vertical-align: top;\n",
       "    }\n",
       "\n",
       "    .dataframe thead th {\n",
       "        text-align: right;\n",
       "    }\n",
       "</style>\n",
       "<table border=\"1\" class=\"dataframe\">\n",
       "  <thead>\n",
       "    <tr style=\"text-align: right;\">\n",
       "      <th>room_type</th>\n",
       "      <th>Entire home/apt</th>\n",
       "      <th>Hotel room</th>\n",
       "      <th>Private room</th>\n",
       "      <th>Shared room</th>\n",
       "    </tr>\n",
       "    <tr>\n",
       "      <th>kitchen</th>\n",
       "      <th></th>\n",
       "      <th></th>\n",
       "      <th></th>\n",
       "      <th></th>\n",
       "    </tr>\n",
       "  </thead>\n",
       "  <tbody>\n",
       "    <tr>\n",
       "      <th>False</th>\n",
       "      <td>0.058562</td>\n",
       "      <td>0.765957</td>\n",
       "      <td>0.454042</td>\n",
       "      <td>0.227273</td>\n",
       "    </tr>\n",
       "    <tr>\n",
       "      <th>True</th>\n",
       "      <td>0.941438</td>\n",
       "      <td>0.234043</td>\n",
       "      <td>0.545958</td>\n",
       "      <td>0.772727</td>\n",
       "    </tr>\n",
       "  </tbody>\n",
       "</table>\n",
       "</div>"
      ],
      "text/plain": [
       "room_type  Entire home/apt  Hotel room  Private room  Shared room\n",
       "kitchen                                                          \n",
       "False             0.058562    0.765957      0.454042     0.227273\n",
       "True              0.941438    0.234043      0.545958     0.772727"
      ]
     },
     "metadata": {},
     "output_type": "display_data"
    }
   ],
   "source": [
    "kitchen_prob = (kitchen_roomtype_count / roomtype_count).unstack(fill_value=0)\n",
    "display(kitchen_prob)"
   ]
  },
  {
   "cell_type": "markdown",
   "metadata": {},
   "source": [
    "### Shared bath probability"
   ]
  },
  {
   "cell_type": "code",
   "execution_count": 204,
   "metadata": {},
   "outputs": [
    {
     "data": {
      "text/plain": [
       "shared_bathroom  room_type      \n",
       "False            Entire home/apt    2476\n",
       "                 Hotel room           43\n",
       "                 Private room        470\n",
       "True             Hotel room            4\n",
       "                 Private room        433\n",
       "                 Shared room          22\n",
       "dtype: int64"
      ]
     },
     "execution_count": 204,
     "metadata": {},
     "output_type": "execute_result"
    }
   ],
   "source": [
    "sharedbath_roomtype_count = listings_cleaned.groupby(['shared_bathroom', 'room_type']).size()\n",
    "sharedbath_roomtype_count"
   ]
  },
  {
   "cell_type": "code",
   "execution_count": 205,
   "metadata": {},
   "outputs": [
    {
     "data": {
      "text/plain": [
       "room_type\n",
       "Entire home/apt    2476\n",
       "Hotel room           47\n",
       "Private room        903\n",
       "Shared room          22\n",
       "dtype: int64"
      ]
     },
     "execution_count": 205,
     "metadata": {},
     "output_type": "execute_result"
    }
   ],
   "source": [
    "roomtype_count = listings_cleaned.groupby(['room_type']).size()\n",
    "roomtype_count"
   ]
  },
  {
   "cell_type": "code",
   "execution_count": 206,
   "metadata": {
    "scrolled": true
   },
   "outputs": [
    {
     "data": {
      "text/html": [
       "<div>\n",
       "<style scoped>\n",
       "    .dataframe tbody tr th:only-of-type {\n",
       "        vertical-align: middle;\n",
       "    }\n",
       "\n",
       "    .dataframe tbody tr th {\n",
       "        vertical-align: top;\n",
       "    }\n",
       "\n",
       "    .dataframe thead th {\n",
       "        text-align: right;\n",
       "    }\n",
       "</style>\n",
       "<table border=\"1\" class=\"dataframe\">\n",
       "  <thead>\n",
       "    <tr style=\"text-align: right;\">\n",
       "      <th>room_type</th>\n",
       "      <th>Entire home/apt</th>\n",
       "      <th>Hotel room</th>\n",
       "      <th>Private room</th>\n",
       "      <th>Shared room</th>\n",
       "    </tr>\n",
       "    <tr>\n",
       "      <th>shared_bathroom</th>\n",
       "      <th></th>\n",
       "      <th></th>\n",
       "      <th></th>\n",
       "      <th></th>\n",
       "    </tr>\n",
       "  </thead>\n",
       "  <tbody>\n",
       "    <tr>\n",
       "      <th>False</th>\n",
       "      <td>1.0</td>\n",
       "      <td>0.914894</td>\n",
       "      <td>0.520487</td>\n",
       "      <td>0.0</td>\n",
       "    </tr>\n",
       "    <tr>\n",
       "      <th>True</th>\n",
       "      <td>0.0</td>\n",
       "      <td>0.085106</td>\n",
       "      <td>0.479513</td>\n",
       "      <td>1.0</td>\n",
       "    </tr>\n",
       "  </tbody>\n",
       "</table>\n",
       "</div>"
      ],
      "text/plain": [
       "room_type        Entire home/apt  Hotel room  Private room  Shared room\n",
       "shared_bathroom                                                        \n",
       "False                        1.0    0.914894      0.520487          0.0\n",
       "True                         0.0    0.085106      0.479513          1.0"
      ]
     },
     "metadata": {},
     "output_type": "display_data"
    }
   ],
   "source": [
    "sharedbath_prob = (sharedbath_roomtype_count / roomtype_count).unstack(fill_value=0)\n",
    "display(sharedbath_prob)"
   ]
  },
  {
   "cell_type": "markdown",
   "metadata": {},
   "source": [
    "### Accommodates probability"
   ]
  },
  {
   "cell_type": "code",
   "execution_count": 207,
   "metadata": {},
   "outputs": [
    {
     "data": {
      "text/plain": [
       "accommodates  room_type      \n",
       "1             Entire home/apt     17\n",
       "              Private room       137\n",
       "              Shared room          6\n",
       "2             Entire home/apt    583\n",
       "              Hotel room          29\n",
       "              Private room       599\n",
       "              Shared room         12\n",
       "3             Entire home/apt    443\n",
       "              Hotel room           9\n",
       "              Private room       104\n",
       "              Shared room          3\n",
       "4             Entire home/apt    945\n",
       "              Hotel room           6\n",
       "              Private room        49\n",
       "              Shared room          1\n",
       "5             Entire home/apt    204\n",
       "              Hotel room           2\n",
       "              Private room         4\n",
       "6             Entire home/apt    170\n",
       "              Private room         4\n",
       "7             Entire home/apt     42\n",
       "              Hotel room           1\n",
       "              Private room         2\n",
       "8             Entire home/apt     43\n",
       "9             Entire home/apt      9\n",
       "10            Entire home/apt      8\n",
       "11            Private room         2\n",
       "12            Entire home/apt      1\n",
       "              Private room         2\n",
       "13            Entire home/apt      3\n",
       "14            Entire home/apt      2\n",
       "15            Entire home/apt      2\n",
       "16            Entire home/apt      4\n",
       "dtype: int64"
      ]
     },
     "execution_count": 207,
     "metadata": {},
     "output_type": "execute_result"
    }
   ],
   "source": [
    "accommodates_roomtype_count = listings_cleaned.groupby(['accommodates', 'room_type']).size()\n",
    "accommodates_roomtype_count"
   ]
  },
  {
   "cell_type": "code",
   "execution_count": 208,
   "metadata": {},
   "outputs": [
    {
     "data": {
      "text/plain": [
       "room_type\n",
       "Entire home/apt    2476\n",
       "Hotel room           47\n",
       "Private room        903\n",
       "Shared room          22\n",
       "dtype: int64"
      ]
     },
     "execution_count": 208,
     "metadata": {},
     "output_type": "execute_result"
    }
   ],
   "source": [
    "roomtype_count = listings_cleaned.groupby(['room_type']).size()\n",
    "roomtype_count"
   ]
  },
  {
   "cell_type": "code",
   "execution_count": 209,
   "metadata": {
    "scrolled": true
   },
   "outputs": [
    {
     "data": {
      "text/html": [
       "<div>\n",
       "<style scoped>\n",
       "    .dataframe tbody tr th:only-of-type {\n",
       "        vertical-align: middle;\n",
       "    }\n",
       "\n",
       "    .dataframe tbody tr th {\n",
       "        vertical-align: top;\n",
       "    }\n",
       "\n",
       "    .dataframe thead th {\n",
       "        text-align: right;\n",
       "    }\n",
       "</style>\n",
       "<table border=\"1\" class=\"dataframe\">\n",
       "  <thead>\n",
       "    <tr style=\"text-align: right;\">\n",
       "      <th>room_type</th>\n",
       "      <th>Entire home/apt</th>\n",
       "      <th>Hotel room</th>\n",
       "      <th>Private room</th>\n",
       "      <th>Shared room</th>\n",
       "    </tr>\n",
       "    <tr>\n",
       "      <th>accommodates</th>\n",
       "      <th></th>\n",
       "      <th></th>\n",
       "      <th></th>\n",
       "      <th></th>\n",
       "    </tr>\n",
       "  </thead>\n",
       "  <tbody>\n",
       "    <tr>\n",
       "      <th>1</th>\n",
       "      <td>0.006866</td>\n",
       "      <td>0.000000</td>\n",
       "      <td>0.151717</td>\n",
       "      <td>0.272727</td>\n",
       "    </tr>\n",
       "    <tr>\n",
       "      <th>2</th>\n",
       "      <td>0.235460</td>\n",
       "      <td>0.617021</td>\n",
       "      <td>0.663344</td>\n",
       "      <td>0.545455</td>\n",
       "    </tr>\n",
       "    <tr>\n",
       "      <th>3</th>\n",
       "      <td>0.178918</td>\n",
       "      <td>0.191489</td>\n",
       "      <td>0.115172</td>\n",
       "      <td>0.136364</td>\n",
       "    </tr>\n",
       "    <tr>\n",
       "      <th>4</th>\n",
       "      <td>0.381664</td>\n",
       "      <td>0.127660</td>\n",
       "      <td>0.054264</td>\n",
       "      <td>0.045455</td>\n",
       "    </tr>\n",
       "    <tr>\n",
       "      <th>5</th>\n",
       "      <td>0.082391</td>\n",
       "      <td>0.042553</td>\n",
       "      <td>0.004430</td>\n",
       "      <td>0.000000</td>\n",
       "    </tr>\n",
       "    <tr>\n",
       "      <th>6</th>\n",
       "      <td>0.068659</td>\n",
       "      <td>0.000000</td>\n",
       "      <td>0.004430</td>\n",
       "      <td>0.000000</td>\n",
       "    </tr>\n",
       "    <tr>\n",
       "      <th>7</th>\n",
       "      <td>0.016963</td>\n",
       "      <td>0.021277</td>\n",
       "      <td>0.002215</td>\n",
       "      <td>0.000000</td>\n",
       "    </tr>\n",
       "    <tr>\n",
       "      <th>8</th>\n",
       "      <td>0.017367</td>\n",
       "      <td>0.000000</td>\n",
       "      <td>0.000000</td>\n",
       "      <td>0.000000</td>\n",
       "    </tr>\n",
       "    <tr>\n",
       "      <th>9</th>\n",
       "      <td>0.003635</td>\n",
       "      <td>0.000000</td>\n",
       "      <td>0.000000</td>\n",
       "      <td>0.000000</td>\n",
       "    </tr>\n",
       "    <tr>\n",
       "      <th>10</th>\n",
       "      <td>0.003231</td>\n",
       "      <td>0.000000</td>\n",
       "      <td>0.000000</td>\n",
       "      <td>0.000000</td>\n",
       "    </tr>\n",
       "    <tr>\n",
       "      <th>11</th>\n",
       "      <td>0.000000</td>\n",
       "      <td>0.000000</td>\n",
       "      <td>0.002215</td>\n",
       "      <td>0.000000</td>\n",
       "    </tr>\n",
       "    <tr>\n",
       "      <th>12</th>\n",
       "      <td>0.000404</td>\n",
       "      <td>0.000000</td>\n",
       "      <td>0.002215</td>\n",
       "      <td>0.000000</td>\n",
       "    </tr>\n",
       "    <tr>\n",
       "      <th>13</th>\n",
       "      <td>0.001212</td>\n",
       "      <td>0.000000</td>\n",
       "      <td>0.000000</td>\n",
       "      <td>0.000000</td>\n",
       "    </tr>\n",
       "    <tr>\n",
       "      <th>14</th>\n",
       "      <td>0.000808</td>\n",
       "      <td>0.000000</td>\n",
       "      <td>0.000000</td>\n",
       "      <td>0.000000</td>\n",
       "    </tr>\n",
       "    <tr>\n",
       "      <th>15</th>\n",
       "      <td>0.000808</td>\n",
       "      <td>0.000000</td>\n",
       "      <td>0.000000</td>\n",
       "      <td>0.000000</td>\n",
       "    </tr>\n",
       "    <tr>\n",
       "      <th>16</th>\n",
       "      <td>0.001616</td>\n",
       "      <td>0.000000</td>\n",
       "      <td>0.000000</td>\n",
       "      <td>0.000000</td>\n",
       "    </tr>\n",
       "  </tbody>\n",
       "</table>\n",
       "</div>"
      ],
      "text/plain": [
       "room_type     Entire home/apt  Hotel room  Private room  Shared room\n",
       "accommodates                                                        \n",
       "1                    0.006866    0.000000      0.151717     0.272727\n",
       "2                    0.235460    0.617021      0.663344     0.545455\n",
       "3                    0.178918    0.191489      0.115172     0.136364\n",
       "4                    0.381664    0.127660      0.054264     0.045455\n",
       "5                    0.082391    0.042553      0.004430     0.000000\n",
       "6                    0.068659    0.000000      0.004430     0.000000\n",
       "7                    0.016963    0.021277      0.002215     0.000000\n",
       "8                    0.017367    0.000000      0.000000     0.000000\n",
       "9                    0.003635    0.000000      0.000000     0.000000\n",
       "10                   0.003231    0.000000      0.000000     0.000000\n",
       "11                   0.000000    0.000000      0.002215     0.000000\n",
       "12                   0.000404    0.000000      0.002215     0.000000\n",
       "13                   0.001212    0.000000      0.000000     0.000000\n",
       "14                   0.000808    0.000000      0.000000     0.000000\n",
       "15                   0.000808    0.000000      0.000000     0.000000\n",
       "16                   0.001616    0.000000      0.000000     0.000000"
      ]
     },
     "metadata": {},
     "output_type": "display_data"
    }
   ],
   "source": [
    "accommodates_prob = (accommodates_roomtype_count / roomtype_count).unstack(fill_value=0)\n",
    "display(accommodates_prob)"
   ]
  },
  {
   "cell_type": "markdown",
   "metadata": {},
   "source": [
    "### Price probability"
   ]
  },
  {
   "cell_type": "code",
   "execution_count": 210,
   "metadata": {},
   "outputs": [
    {
     "data": {
      "text/plain": [
       "price  neighbourhood_cleansed  wifi   room_type        kitchen  shared_bathroom  accommodates\n",
       "0-50   Borgo Panigale - Reno   False  Entire home/apt  False    False            1               0\n",
       "                                                                                 2               0\n",
       "                                                                                 3               0\n",
       "                                                                                 4               0\n",
       "                                                                                 5               0\n",
       "                                                                                                ..\n",
       ">500   Savena                  True   Shared room      True     True             12              0\n",
       "                                                                                 13              0\n",
       "                                                                                 14              0\n",
       "                                                                                 15              0\n",
       "                                                                                 16              0\n",
       "Length: 12288, dtype: int64"
      ]
     },
     "execution_count": 210,
     "metadata": {},
     "output_type": "execute_result"
    }
   ],
   "source": [
    "price_alltheother_count = listings_cleaned.groupby(['price', 'neighbourhood_cleansed', 'wifi', 'room_type', 'kitchen', 'shared_bathroom', 'accommodates']).size()\n",
    "price_alltheother_count"
   ]
  },
  {
   "cell_type": "code",
   "execution_count": 211,
   "metadata": {},
   "outputs": [
    {
     "data": {
      "text/plain": [
       "neighbourhood_cleansed  wifi   room_type        kitchen  shared_bathroom  accommodates\n",
       "Borgo Panigale - Reno   False  Entire home/apt  False    False            4                3\n",
       "                                                True     False            1                2\n",
       "                                                                          2               17\n",
       "                                                                          3               14\n",
       "                                                                          4               27\n",
       "                                                                                          ..\n",
       "Savena                  True   Private room     True     False            3                1\n",
       "                                                         True             1                2\n",
       "                                                                          2               11\n",
       "                                                                          4                1\n",
       "                               Shared room      True     True             2                1\n",
       "Length: 338, dtype: int64"
      ]
     },
     "execution_count": 211,
     "metadata": {},
     "output_type": "execute_result"
    }
   ],
   "source": [
    "alltheother_count = listings_cleaned.groupby(['neighbourhood_cleansed', 'wifi', 'room_type', 'kitchen', 'shared_bathroom', 'accommodates']).size()\n",
    "alltheother_count"
   ]
  },
  {
   "cell_type": "code",
   "execution_count": 217,
   "metadata": {
    "scrolled": true
   },
   "outputs": [
    {
     "data": {
      "text/html": [
       "<div>\n",
       "<style scoped>\n",
       "    .dataframe tbody tr th:only-of-type {\n",
       "        vertical-align: middle;\n",
       "    }\n",
       "\n",
       "    .dataframe tbody tr th {\n",
       "        vertical-align: top;\n",
       "    }\n",
       "\n",
       "    .dataframe thead tr th {\n",
       "        text-align: left;\n",
       "    }\n",
       "\n",
       "    .dataframe thead tr:last-of-type th {\n",
       "        text-align: right;\n",
       "    }\n",
       "</style>\n",
       "<table border=\"1\" class=\"dataframe\">\n",
       "  <thead>\n",
       "    <tr>\n",
       "      <th>neighbourhood_cleansed</th>\n",
       "      <th colspan=\"10\" halign=\"left\">Borgo Panigale - Reno</th>\n",
       "      <th>...</th>\n",
       "      <th colspan=\"10\" halign=\"left\">Savena</th>\n",
       "    </tr>\n",
       "    <tr>\n",
       "      <th>wifi</th>\n",
       "      <th colspan=\"10\" halign=\"left\">False</th>\n",
       "      <th>...</th>\n",
       "      <th colspan=\"10\" halign=\"left\">True</th>\n",
       "    </tr>\n",
       "    <tr>\n",
       "      <th>room_type</th>\n",
       "      <th colspan=\"10\" halign=\"left\">Entire home/apt</th>\n",
       "      <th>...</th>\n",
       "      <th colspan=\"10\" halign=\"left\">Shared room</th>\n",
       "    </tr>\n",
       "    <tr>\n",
       "      <th>kitchen</th>\n",
       "      <th colspan=\"10\" halign=\"left\">False</th>\n",
       "      <th>...</th>\n",
       "      <th colspan=\"10\" halign=\"left\">True</th>\n",
       "    </tr>\n",
       "    <tr>\n",
       "      <th>shared_bathroom</th>\n",
       "      <th colspan=\"10\" halign=\"left\">False</th>\n",
       "      <th>...</th>\n",
       "      <th colspan=\"10\" halign=\"left\">True</th>\n",
       "    </tr>\n",
       "    <tr>\n",
       "      <th>accommodates</th>\n",
       "      <th>1</th>\n",
       "      <th>2</th>\n",
       "      <th>3</th>\n",
       "      <th>4</th>\n",
       "      <th>5</th>\n",
       "      <th>6</th>\n",
       "      <th>7</th>\n",
       "      <th>8</th>\n",
       "      <th>9</th>\n",
       "      <th>10</th>\n",
       "      <th>...</th>\n",
       "      <th>7</th>\n",
       "      <th>8</th>\n",
       "      <th>9</th>\n",
       "      <th>10</th>\n",
       "      <th>11</th>\n",
       "      <th>12</th>\n",
       "      <th>13</th>\n",
       "      <th>14</th>\n",
       "      <th>15</th>\n",
       "      <th>16</th>\n",
       "    </tr>\n",
       "    <tr>\n",
       "      <th>price</th>\n",
       "      <th></th>\n",
       "      <th></th>\n",
       "      <th></th>\n",
       "      <th></th>\n",
       "      <th></th>\n",
       "      <th></th>\n",
       "      <th></th>\n",
       "      <th></th>\n",
       "      <th></th>\n",
       "      <th></th>\n",
       "      <th></th>\n",
       "      <th></th>\n",
       "      <th></th>\n",
       "      <th></th>\n",
       "      <th></th>\n",
       "      <th></th>\n",
       "      <th></th>\n",
       "      <th></th>\n",
       "      <th></th>\n",
       "      <th></th>\n",
       "      <th></th>\n",
       "    </tr>\n",
       "  </thead>\n",
       "  <tbody>\n",
       "    <tr>\n",
       "      <th>0-50</th>\n",
       "      <td>0.0</td>\n",
       "      <td>0.0</td>\n",
       "      <td>0.0</td>\n",
       "      <td>0.000000</td>\n",
       "      <td>0.0</td>\n",
       "      <td>0.0</td>\n",
       "      <td>0.0</td>\n",
       "      <td>0.0</td>\n",
       "      <td>0.0</td>\n",
       "      <td>0.0</td>\n",
       "      <td>...</td>\n",
       "      <td>0.0</td>\n",
       "      <td>0.0</td>\n",
       "      <td>0.0</td>\n",
       "      <td>0.0</td>\n",
       "      <td>0.0</td>\n",
       "      <td>0.0</td>\n",
       "      <td>0.0</td>\n",
       "      <td>0.0</td>\n",
       "      <td>0.0</td>\n",
       "      <td>0.0</td>\n",
       "    </tr>\n",
       "    <tr>\n",
       "      <th>50-150</th>\n",
       "      <td>0.0</td>\n",
       "      <td>0.0</td>\n",
       "      <td>0.0</td>\n",
       "      <td>0.666667</td>\n",
       "      <td>0.0</td>\n",
       "      <td>0.0</td>\n",
       "      <td>0.0</td>\n",
       "      <td>0.0</td>\n",
       "      <td>0.0</td>\n",
       "      <td>0.0</td>\n",
       "      <td>...</td>\n",
       "      <td>0.0</td>\n",
       "      <td>0.0</td>\n",
       "      <td>0.0</td>\n",
       "      <td>0.0</td>\n",
       "      <td>0.0</td>\n",
       "      <td>0.0</td>\n",
       "      <td>0.0</td>\n",
       "      <td>0.0</td>\n",
       "      <td>0.0</td>\n",
       "      <td>0.0</td>\n",
       "    </tr>\n",
       "    <tr>\n",
       "      <th>150-500</th>\n",
       "      <td>0.0</td>\n",
       "      <td>0.0</td>\n",
       "      <td>0.0</td>\n",
       "      <td>0.333333</td>\n",
       "      <td>0.0</td>\n",
       "      <td>0.0</td>\n",
       "      <td>0.0</td>\n",
       "      <td>0.0</td>\n",
       "      <td>0.0</td>\n",
       "      <td>0.0</td>\n",
       "      <td>...</td>\n",
       "      <td>0.0</td>\n",
       "      <td>0.0</td>\n",
       "      <td>0.0</td>\n",
       "      <td>0.0</td>\n",
       "      <td>0.0</td>\n",
       "      <td>0.0</td>\n",
       "      <td>0.0</td>\n",
       "      <td>0.0</td>\n",
       "      <td>0.0</td>\n",
       "      <td>0.0</td>\n",
       "    </tr>\n",
       "    <tr>\n",
       "      <th>&gt;500</th>\n",
       "      <td>0.0</td>\n",
       "      <td>0.0</td>\n",
       "      <td>0.0</td>\n",
       "      <td>0.000000</td>\n",
       "      <td>0.0</td>\n",
       "      <td>0.0</td>\n",
       "      <td>0.0</td>\n",
       "      <td>0.0</td>\n",
       "      <td>0.0</td>\n",
       "      <td>0.0</td>\n",
       "      <td>...</td>\n",
       "      <td>0.0</td>\n",
       "      <td>0.0</td>\n",
       "      <td>0.0</td>\n",
       "      <td>0.0</td>\n",
       "      <td>0.0</td>\n",
       "      <td>0.0</td>\n",
       "      <td>0.0</td>\n",
       "      <td>0.0</td>\n",
       "      <td>0.0</td>\n",
       "      <td>0.0</td>\n",
       "    </tr>\n",
       "  </tbody>\n",
       "</table>\n",
       "<p>4 rows × 3072 columns</p>\n",
       "</div>"
      ],
      "text/plain": [
       "neighbourhood_cleansed Borgo Panigale - Reno                                \\\n",
       "wifi                                   False                                 \n",
       "room_type                    Entire home/apt                                 \n",
       "kitchen                                False                                 \n",
       "shared_bathroom                        False                                 \n",
       "accommodates                              1    2    3         4    5    6    \n",
       "price                                                                        \n",
       "0-50                                     0.0  0.0  0.0  0.000000  0.0  0.0   \n",
       "50-150                                   0.0  0.0  0.0  0.666667  0.0  0.0   \n",
       "150-500                                  0.0  0.0  0.0  0.333333  0.0  0.0   \n",
       ">500                                     0.0  0.0  0.0  0.000000  0.0  0.0   \n",
       "\n",
       "neighbourhood_cleansed                      ...      Savena                 \\\n",
       "wifi                                        ...        True                  \n",
       "room_type                                   ... Shared room                  \n",
       "kitchen                                     ...        True                  \n",
       "shared_bathroom                             ...        True                  \n",
       "accommodates             7    8    9    10  ...          7    8    9    10   \n",
       "price                                       ...                              \n",
       "0-50                    0.0  0.0  0.0  0.0  ...         0.0  0.0  0.0  0.0   \n",
       "50-150                  0.0  0.0  0.0  0.0  ...         0.0  0.0  0.0  0.0   \n",
       "150-500                 0.0  0.0  0.0  0.0  ...         0.0  0.0  0.0  0.0   \n",
       ">500                    0.0  0.0  0.0  0.0  ...         0.0  0.0  0.0  0.0   \n",
       "\n",
       "neighbourhood_cleansed                                \n",
       "wifi                                                  \n",
       "room_type                                             \n",
       "kitchen                                               \n",
       "shared_bathroom                                       \n",
       "accommodates             11   12   13   14   15   16  \n",
       "price                                                 \n",
       "0-50                    0.0  0.0  0.0  0.0  0.0  0.0  \n",
       "50-150                  0.0  0.0  0.0  0.0  0.0  0.0  \n",
       "150-500                 0.0  0.0  0.0  0.0  0.0  0.0  \n",
       ">500                    0.0  0.0  0.0  0.0  0.0  0.0  \n",
       "\n",
       "[4 rows x 3072 columns]"
      ]
     },
     "metadata": {},
     "output_type": "display_data"
    }
   ],
   "source": [
    "price_prob = (price_alltheother_count / alltheother_count).unstack(fill_value=0)\n",
    "price_prob = price_prob.fillna(0).T\n",
    "display(price_prob)"
   ]
  },
  {
   "cell_type": "markdown",
   "metadata": {},
   "source": [
    " ## Network"
   ]
  },
  {
   "cell_type": "code",
   "execution_count": 195,
   "metadata": {},
   "outputs": [],
   "source": [
    "airbnb_model = BayesianNetwork([('Neighbourhood', 'Room type'), ('Neighbourhood', 'Price'),\n",
    "                                ('Room type', 'Kitchen'), ('Room type', 'Shared bath'), ('Room type', 'Accommodates'), ('Room type', 'Price'),\n",
    "                                ('Kitchen', 'Price'),\n",
    "                                ('Shared bath', 'Price'),\n",
    "                                ('Accommmodates', 'Price'),\n",
    "                                ('Wifi', 'Price')])"
   ]
  },
  {
   "cell_type": "code",
   "execution_count": 218,
   "metadata": {},
   "outputs": [],
   "source": [
    "neighbourhood_cpd = TabularCPD('Neighbourhood', neighbourhood_c, neighbourhood_prob)\n",
    "wifi_cpd = TabularCPD('Wifi', wifi_c, wifi_prob)\n",
    "\n",
    "roomtype_cpd = TabularCPD('Room type', roomtype_c, roomtype_prob, evidence=['Neighbourhood'], evidence_card=[neighbourhood_c])\n",
    "\n",
    "kitchen_cpd = TabularCPD('Kitchen', kitchen_c, kitchen_prob, evidence=['Room type'], evidence_card=[roomtype_c])\n",
    "sharedbath_cpd = TabularCPD('Shared bath', sharedbathroom_c, sharedbath_prob, evidence=['Room type'], evidence_card=[roomtype_c])\n",
    "accommodates_cpd = TabularCPD('Accommodates', accommodates_c, accommodates_prob, evidence=['Room type'], evidence_card=[roomtype_c])\n",
    "\n",
    "price_cpd = TabularCPD('Price', price_c, price_prob, evidence=['Neighbourhood', 'Wifi', 'Room type', 'Kitchen', 'Shared bath', 'Accommodates'], evidence_card=[neighbourhood_c, wifi_c, roomtype_c, kitchen_c, sharedbathroom_c, accommodates_c])\n",
    "\n",
    "airbnb_model.add_cpds(neighbourhood_cpd,\n",
    "                      wifi_cpd, \n",
    "                      roomtype_cpd,\n",
    "                      kitchen_cpd,\n",
    "                      sharedbath_cpd,\n",
    "                      accommodates_cpd,\n",
    "                      price_cpd)"
   ]
  },
  {
   "cell_type": "code",
   "execution_count": 221,
   "metadata": {},
   "outputs": [
    {
     "data": {
      "text/plain": [
       "{'Neighbourhood': [0, 1, 2, 3, 4, 5],\n",
       " 'Wifi': [0, 1],\n",
       " 'Room type': [0, 1, 2, 3],\n",
       " 'Kitchen': [0, 1],\n",
       " 'Shared bath': [0, 1],\n",
       " 'Accommodates': [0, 1, 2, 3, 4, 5, 6, 7, 8, 9, 10, 11, 12, 13, 14, 15],\n",
       " 'Price': [0, 1, 2, 3]}"
      ]
     },
     "execution_count": 221,
     "metadata": {},
     "output_type": "execute_result"
    }
   ],
   "source": [
    "airbnb_model.states"
   ]
  },
  {
   "cell_type": "code",
   "execution_count": 220,
   "metadata": {},
   "outputs": [
    {
     "ename": "ValueError",
     "evalue": "CPD associated with Price doesn't have proper parents associated with it.",
     "output_type": "error",
     "traceback": [
      "\u001b[1;31m---------------------------------------------------------------------------\u001b[0m",
      "\u001b[1;31mValueError\u001b[0m                                Traceback (most recent call last)",
      "\u001b[1;32m~\\AppData\\Local\\Temp/ipykernel_26696/3384165395.py\u001b[0m in \u001b[0;36m<module>\u001b[1;34m\u001b[0m\n\u001b[1;32m----> 1\u001b[1;33m \u001b[0mairbnb_model\u001b[0m\u001b[1;33m.\u001b[0m\u001b[0mcheck_model\u001b[0m\u001b[1;33m(\u001b[0m\u001b[1;33m)\u001b[0m\u001b[1;33m\u001b[0m\u001b[1;33m\u001b[0m\u001b[0m\n\u001b[0m",
      "\u001b[1;32m~\\anaconda3\\lib\\site-packages\\pgmpy\\models\\BayesianNetwork.py\u001b[0m in \u001b[0;36mcheck_model\u001b[1;34m(self)\u001b[0m\n\u001b[0;32m    415\u001b[0m                 \u001b[1;31m# Check if the evidence set of the CPD is same as it's parents.\u001b[0m\u001b[1;33m\u001b[0m\u001b[1;33m\u001b[0m\u001b[0m\n\u001b[0;32m    416\u001b[0m                 \u001b[1;32mif\u001b[0m \u001b[0mset\u001b[0m\u001b[1;33m(\u001b[0m\u001b[0mevidence\u001b[0m\u001b[1;33m)\u001b[0m \u001b[1;33m!=\u001b[0m \u001b[0mset\u001b[0m\u001b[1;33m(\u001b[0m\u001b[0mparents\u001b[0m\u001b[1;33m)\u001b[0m\u001b[1;33m:\u001b[0m\u001b[1;33m\u001b[0m\u001b[1;33m\u001b[0m\u001b[0m\n\u001b[1;32m--> 417\u001b[1;33m                     raise ValueError(\n\u001b[0m\u001b[0;32m    418\u001b[0m                         \u001b[1;34mf\"CPD associated with {node} doesn't have proper parents associated with it.\"\u001b[0m\u001b[1;33m\u001b[0m\u001b[1;33m\u001b[0m\u001b[0m\n\u001b[0;32m    419\u001b[0m                     )\n",
      "\u001b[1;31mValueError\u001b[0m: CPD associated with Price doesn't have proper parents associated with it."
     ]
    }
   ],
   "source": [
    "airbnb_model.check_model()"
   ]
  }
 ],
 "metadata": {
  "kernelspec": {
   "display_name": "Python 3 (ipykernel)",
   "language": "python",
   "name": "python3"
  },
  "language_info": {
   "codemirror_mode": {
    "name": "ipython",
    "version": 3
   },
   "file_extension": ".py",
   "mimetype": "text/x-python",
   "name": "python",
   "nbconvert_exporter": "python",
   "pygments_lexer": "ipython3",
   "version": "3.9.7"
  }
 },
 "nbformat": 4,
 "nbformat_minor": 1
}
