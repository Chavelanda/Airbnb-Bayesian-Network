{
 "cells": [
  {
   "cell_type": "code",
   "execution_count": 2,
   "metadata": {
    "collapsed": true
   },
   "outputs": [
    {
     "name": "stdout",
     "output_type": "stream",
     "text": [
      "Libraries imported\n"
     ]
    }
   ],
   "source": [
    "import pandas as pd\n",
    "import numpy as np\n",
    "import pgmpy\n",
    "\n",
    "print('Libraries imported')"
   ]
  },
  {
   "cell_type": "markdown",
   "source": [
    "Loading Airbnb database"
   ],
   "metadata": {
    "collapsed": false,
    "pycharm": {
     "name": "#%% md\n"
    }
   }
  },
  {
   "cell_type": "code",
   "execution_count": 38,
   "outputs": [
    {
     "data": {
      "text/plain": "       id                          listing_url       scrape_id last_scraped  \\\n0   42196   https://www.airbnb.com/rooms/42196  20211217003510   2021-12-17   \n1   46352   https://www.airbnb.com/rooms/46352  20211217003510   2021-12-17   \n2   59697   https://www.airbnb.com/rooms/59697  20211217003510   2021-12-17   \n3   85368   https://www.airbnb.com/rooms/85368  20211217003510   2021-12-17   \n4  145779  https://www.airbnb.com/rooms/145779  20211217003510   2021-12-17   \n\n                                    name  \\\n0    50 sm Studio in the historic centre   \n1             A room in Pasolini's house   \n2  COZY LARGE BEDROOM in the city center   \n3                   Garden House Bologna   \n4                            SINGLE ROOM   \n\n                                         description  \\\n0  <b>The space</b><br />Really cozy and typical ...   \n1  Simple, cozy and silent room in a lived house ...   \n2  Cozy, spacious and bright double bedroom, in a...   \n3  <b>The space</b><br />Garden House Bologna let...   \n4                        <b>The space</b><br />&lt;3   \n\n                               neighborhood_overview  \\\n0                                                NaN   \n1  In the very nearby you have Via Saragozza whic...   \n2                                                NaN   \n3                                                NaN   \n4                                                NaN   \n\n                                         picture_url  host_id  \\\n0  https://a0.muscache.com/pictures/4775726/68044...   184487   \n1  https://a0.muscache.com/pictures/9f94acc3-98fc...   467810   \n2  https://a0.muscache.com/pictures/ac0528c4-b26f...   286688   \n3  https://a0.muscache.com/pictures/585815/331d45...   467675   \n4  https://a0.muscache.com/pictures/76537876/27c6...   705535   \n\n                                   host_url  ... review_scores_communication  \\\n0  https://www.airbnb.com/users/show/184487  ...                        4.85   \n1  https://www.airbnb.com/users/show/467810  ...                        4.79   \n2  https://www.airbnb.com/users/show/286688  ...                        4.79   \n3  https://www.airbnb.com/users/show/467675  ...                        5.00   \n4  https://www.airbnb.com/users/show/705535  ...                        4.92   \n\n  review_scores_location review_scores_value license instant_bookable  \\\n0                   4.85                4.70     NaN                t   \n1                   4.80                4.59     NaN                f   \n2                   4.82                4.66     NaN                f   \n3                   4.74                4.82     NaN                f   \n4                   5.00                4.86     NaN                f   \n\n  calculated_host_listings_count calculated_host_listings_count_entire_homes  \\\n0                              1                                           1   \n1                              2                                           0   \n2                              2                                           0   \n3                              1                                           1   \n4                              9                                           2   \n\n  calculated_host_listings_count_private_rooms  \\\n0                                            0   \n1                                            2   \n2                                            2   \n3                                            0   \n4                                            7   \n\n  calculated_host_listings_count_shared_rooms reviews_per_month  \n0                                           0              1.32  \n1                                           0              2.20  \n2                                           0              2.18  \n3                                           0              0.34  \n4                                           0              0.55  \n\n[5 rows x 74 columns]",
      "text/html": "<div>\n<style scoped>\n    .dataframe tbody tr th:only-of-type {\n        vertical-align: middle;\n    }\n\n    .dataframe tbody tr th {\n        vertical-align: top;\n    }\n\n    .dataframe thead th {\n        text-align: right;\n    }\n</style>\n<table border=\"1\" class=\"dataframe\">\n  <thead>\n    <tr style=\"text-align: right;\">\n      <th></th>\n      <th>id</th>\n      <th>listing_url</th>\n      <th>scrape_id</th>\n      <th>last_scraped</th>\n      <th>name</th>\n      <th>description</th>\n      <th>neighborhood_overview</th>\n      <th>picture_url</th>\n      <th>host_id</th>\n      <th>host_url</th>\n      <th>...</th>\n      <th>review_scores_communication</th>\n      <th>review_scores_location</th>\n      <th>review_scores_value</th>\n      <th>license</th>\n      <th>instant_bookable</th>\n      <th>calculated_host_listings_count</th>\n      <th>calculated_host_listings_count_entire_homes</th>\n      <th>calculated_host_listings_count_private_rooms</th>\n      <th>calculated_host_listings_count_shared_rooms</th>\n      <th>reviews_per_month</th>\n    </tr>\n  </thead>\n  <tbody>\n    <tr>\n      <th>0</th>\n      <td>42196</td>\n      <td>https://www.airbnb.com/rooms/42196</td>\n      <td>20211217003510</td>\n      <td>2021-12-17</td>\n      <td>50 sm Studio in the historic centre</td>\n      <td>&lt;b&gt;The space&lt;/b&gt;&lt;br /&gt;Really cozy and typical ...</td>\n      <td>NaN</td>\n      <td>https://a0.muscache.com/pictures/4775726/68044...</td>\n      <td>184487</td>\n      <td>https://www.airbnb.com/users/show/184487</td>\n      <td>...</td>\n      <td>4.85</td>\n      <td>4.85</td>\n      <td>4.70</td>\n      <td>NaN</td>\n      <td>t</td>\n      <td>1</td>\n      <td>1</td>\n      <td>0</td>\n      <td>0</td>\n      <td>1.32</td>\n    </tr>\n    <tr>\n      <th>1</th>\n      <td>46352</td>\n      <td>https://www.airbnb.com/rooms/46352</td>\n      <td>20211217003510</td>\n      <td>2021-12-17</td>\n      <td>A room in Pasolini's house</td>\n      <td>Simple, cozy and silent room in a lived house ...</td>\n      <td>In the very nearby you have Via Saragozza whic...</td>\n      <td>https://a0.muscache.com/pictures/9f94acc3-98fc...</td>\n      <td>467810</td>\n      <td>https://www.airbnb.com/users/show/467810</td>\n      <td>...</td>\n      <td>4.79</td>\n      <td>4.80</td>\n      <td>4.59</td>\n      <td>NaN</td>\n      <td>f</td>\n      <td>2</td>\n      <td>0</td>\n      <td>2</td>\n      <td>0</td>\n      <td>2.20</td>\n    </tr>\n    <tr>\n      <th>2</th>\n      <td>59697</td>\n      <td>https://www.airbnb.com/rooms/59697</td>\n      <td>20211217003510</td>\n      <td>2021-12-17</td>\n      <td>COZY LARGE BEDROOM in the city center</td>\n      <td>Cozy, spacious and bright double bedroom, in a...</td>\n      <td>NaN</td>\n      <td>https://a0.muscache.com/pictures/ac0528c4-b26f...</td>\n      <td>286688</td>\n      <td>https://www.airbnb.com/users/show/286688</td>\n      <td>...</td>\n      <td>4.79</td>\n      <td>4.82</td>\n      <td>4.66</td>\n      <td>NaN</td>\n      <td>f</td>\n      <td>2</td>\n      <td>0</td>\n      <td>2</td>\n      <td>0</td>\n      <td>2.18</td>\n    </tr>\n    <tr>\n      <th>3</th>\n      <td>85368</td>\n      <td>https://www.airbnb.com/rooms/85368</td>\n      <td>20211217003510</td>\n      <td>2021-12-17</td>\n      <td>Garden House Bologna</td>\n      <td>&lt;b&gt;The space&lt;/b&gt;&lt;br /&gt;Garden House Bologna let...</td>\n      <td>NaN</td>\n      <td>https://a0.muscache.com/pictures/585815/331d45...</td>\n      <td>467675</td>\n      <td>https://www.airbnb.com/users/show/467675</td>\n      <td>...</td>\n      <td>5.00</td>\n      <td>4.74</td>\n      <td>4.82</td>\n      <td>NaN</td>\n      <td>f</td>\n      <td>1</td>\n      <td>1</td>\n      <td>0</td>\n      <td>0</td>\n      <td>0.34</td>\n    </tr>\n    <tr>\n      <th>4</th>\n      <td>145779</td>\n      <td>https://www.airbnb.com/rooms/145779</td>\n      <td>20211217003510</td>\n      <td>2021-12-17</td>\n      <td>SINGLE ROOM</td>\n      <td>&lt;b&gt;The space&lt;/b&gt;&lt;br /&gt;&amp;lt;3</td>\n      <td>NaN</td>\n      <td>https://a0.muscache.com/pictures/76537876/27c6...</td>\n      <td>705535</td>\n      <td>https://www.airbnb.com/users/show/705535</td>\n      <td>...</td>\n      <td>4.92</td>\n      <td>5.00</td>\n      <td>4.86</td>\n      <td>NaN</td>\n      <td>f</td>\n      <td>9</td>\n      <td>2</td>\n      <td>7</td>\n      <td>0</td>\n      <td>0.55</td>\n    </tr>\n  </tbody>\n</table>\n<p>5 rows × 74 columns</p>\n</div>"
     },
     "execution_count": 38,
     "metadata": {},
     "output_type": "execute_result"
    }
   ],
   "source": [
    "listings = pd.read_csv(\"listings.csv\")\n",
    "\n",
    "listings.head()"
   ],
   "metadata": {
    "collapsed": false,
    "pycharm": {
     "name": "#%%\n"
    }
   }
  },
  {
   "cell_type": "code",
   "execution_count": 39,
   "outputs": [],
   "source": [
    "listings = pd.concat([listings, listings['amenities'].str.get_dummies(sep='\", \"').astype(bool)], axis=1)"
   ],
   "metadata": {
    "collapsed": false,
    "pycharm": {
     "name": "#%%\n"
    }
   }
  },
  {
   "cell_type": "code",
   "execution_count": 44,
   "outputs": [
    {
     "data": {
      "text/plain": "       id neighbourhood_cleansed        room_type  accommodates  \\\n0   42196          Santo Stefano  Entire home/apt             2   \n1   46352      Porto - Saragozza     Private room             2   \n2   59697          Santo Stefano     Private room             2   \n3   85368          Santo Stefano  Entire home/apt             2   \n4  145779      Porto - Saragozza     Private room             1   \n\n  bathrooms_text    price  Kitchen   Wifi  \n0         1 bath   $68.00     True  False  \n1  1 shared bath   $29.00     True  False  \n2  1 shared bath   $50.00     True  False  \n3        2 baths  $126.00     True   True  \n4  1 shared bath   $50.00    False  False  ",
      "text/html": "<div>\n<style scoped>\n    .dataframe tbody tr th:only-of-type {\n        vertical-align: middle;\n    }\n\n    .dataframe tbody tr th {\n        vertical-align: top;\n    }\n\n    .dataframe thead th {\n        text-align: right;\n    }\n</style>\n<table border=\"1\" class=\"dataframe\">\n  <thead>\n    <tr style=\"text-align: right;\">\n      <th></th>\n      <th>id</th>\n      <th>neighbourhood_cleansed</th>\n      <th>room_type</th>\n      <th>accommodates</th>\n      <th>bathrooms_text</th>\n      <th>price</th>\n      <th>Kitchen</th>\n      <th>Wifi</th>\n    </tr>\n  </thead>\n  <tbody>\n    <tr>\n      <th>0</th>\n      <td>42196</td>\n      <td>Santo Stefano</td>\n      <td>Entire home/apt</td>\n      <td>2</td>\n      <td>1 bath</td>\n      <td>$68.00</td>\n      <td>True</td>\n      <td>False</td>\n    </tr>\n    <tr>\n      <th>1</th>\n      <td>46352</td>\n      <td>Porto - Saragozza</td>\n      <td>Private room</td>\n      <td>2</td>\n      <td>1 shared bath</td>\n      <td>$29.00</td>\n      <td>True</td>\n      <td>False</td>\n    </tr>\n    <tr>\n      <th>2</th>\n      <td>59697</td>\n      <td>Santo Stefano</td>\n      <td>Private room</td>\n      <td>2</td>\n      <td>1 shared bath</td>\n      <td>$50.00</td>\n      <td>True</td>\n      <td>False</td>\n    </tr>\n    <tr>\n      <th>3</th>\n      <td>85368</td>\n      <td>Santo Stefano</td>\n      <td>Entire home/apt</td>\n      <td>2</td>\n      <td>2 baths</td>\n      <td>$126.00</td>\n      <td>True</td>\n      <td>True</td>\n    </tr>\n    <tr>\n      <th>4</th>\n      <td>145779</td>\n      <td>Porto - Saragozza</td>\n      <td>Private room</td>\n      <td>1</td>\n      <td>1 shared bath</td>\n      <td>$50.00</td>\n      <td>False</td>\n      <td>False</td>\n    </tr>\n  </tbody>\n</table>\n</div>"
     },
     "execution_count": 44,
     "metadata": {},
     "output_type": "execute_result"
    }
   ],
   "source": [
    "columns = ['id', 'neighbourhood_cleansed', 'room_type', 'accommodates', 'bathrooms_text', 'price', 'Kitchen', 'Wifi']\n",
    "listings_selection = listings[columns]\n",
    "\n",
    "listings_selection.head()\n",
    "\n",
    "\n",
    "\n"
   ],
   "metadata": {
    "collapsed": false,
    "pycharm": {
     "name": "#%%\n"
    }
   }
  },
  {
   "cell_type": "code",
   "execution_count": 45,
   "outputs": [
    {
     "name": "stderr",
     "output_type": "stream",
     "text": [
      "C:\\Users\\giach\\AppData\\Local\\Temp/ipykernel_10356/1063439030.py:1: FutureWarning: The default value of regex will change from True to False in a future version.\n",
      "  listings_selection['price'] = listings_selection['price'].str.replace('[$|,]', '').astype(np.float)\n",
      "C:\\Users\\giach\\AppData\\Local\\Temp/ipykernel_10356/1063439030.py:1: DeprecationWarning: `np.float` is a deprecated alias for the builtin `float`. To silence this warning, use `float` by itself. Doing this will not modify any behavior and is safe. If you specifically wanted the numpy scalar type, use `np.float64` here.\n",
      "Deprecated in NumPy 1.20; for more details and guidance: https://numpy.org/devdocs/release/1.20.0-notes.html#deprecations\n",
      "  listings_selection['price'] = listings_selection['price'].str.replace('[$|,]', '').astype(np.float)\n",
      "C:\\Users\\giach\\AppData\\Local\\Temp/ipykernel_10356/1063439030.py:1: SettingWithCopyWarning: \n",
      "A value is trying to be set on a copy of a slice from a DataFrame.\n",
      "Try using .loc[row_indexer,col_indexer] = value instead\n",
      "\n",
      "See the caveats in the documentation: https://pandas.pydata.org/pandas-docs/stable/user_guide/indexing.html#returning-a-view-versus-a-copy\n",
      "  listings_selection['price'] = listings_selection['price'].str.replace('[$|,]', '').astype(np.float)\n"
     ]
    },
    {
     "data": {
      "text/plain": "       id neighbourhood_cleansed        room_type  accommodates  \\\n0   42196          Santo Stefano  Entire home/apt             2   \n1   46352      Porto - Saragozza     Private room             2   \n2   59697          Santo Stefano     Private room             2   \n3   85368          Santo Stefano  Entire home/apt             2   \n4  145779      Porto - Saragozza     Private room             1   \n\n  bathrooms_text  price  Kitchen   Wifi  \n0         1 bath   68.0     True  False  \n1  1 shared bath   29.0     True  False  \n2  1 shared bath   50.0     True  False  \n3        2 baths  126.0     True   True  \n4  1 shared bath   50.0    False  False  ",
      "text/html": "<div>\n<style scoped>\n    .dataframe tbody tr th:only-of-type {\n        vertical-align: middle;\n    }\n\n    .dataframe tbody tr th {\n        vertical-align: top;\n    }\n\n    .dataframe thead th {\n        text-align: right;\n    }\n</style>\n<table border=\"1\" class=\"dataframe\">\n  <thead>\n    <tr style=\"text-align: right;\">\n      <th></th>\n      <th>id</th>\n      <th>neighbourhood_cleansed</th>\n      <th>room_type</th>\n      <th>accommodates</th>\n      <th>bathrooms_text</th>\n      <th>price</th>\n      <th>Kitchen</th>\n      <th>Wifi</th>\n    </tr>\n  </thead>\n  <tbody>\n    <tr>\n      <th>0</th>\n      <td>42196</td>\n      <td>Santo Stefano</td>\n      <td>Entire home/apt</td>\n      <td>2</td>\n      <td>1 bath</td>\n      <td>68.0</td>\n      <td>True</td>\n      <td>False</td>\n    </tr>\n    <tr>\n      <th>1</th>\n      <td>46352</td>\n      <td>Porto - Saragozza</td>\n      <td>Private room</td>\n      <td>2</td>\n      <td>1 shared bath</td>\n      <td>29.0</td>\n      <td>True</td>\n      <td>False</td>\n    </tr>\n    <tr>\n      <th>2</th>\n      <td>59697</td>\n      <td>Santo Stefano</td>\n      <td>Private room</td>\n      <td>2</td>\n      <td>1 shared bath</td>\n      <td>50.0</td>\n      <td>True</td>\n      <td>False</td>\n    </tr>\n    <tr>\n      <th>3</th>\n      <td>85368</td>\n      <td>Santo Stefano</td>\n      <td>Entire home/apt</td>\n      <td>2</td>\n      <td>2 baths</td>\n      <td>126.0</td>\n      <td>True</td>\n      <td>True</td>\n    </tr>\n    <tr>\n      <th>4</th>\n      <td>145779</td>\n      <td>Porto - Saragozza</td>\n      <td>Private room</td>\n      <td>1</td>\n      <td>1 shared bath</td>\n      <td>50.0</td>\n      <td>False</td>\n      <td>False</td>\n    </tr>\n  </tbody>\n</table>\n</div>"
     },
     "execution_count": 45,
     "metadata": {},
     "output_type": "execute_result"
    }
   ],
   "source": [
    "listings_selection['price'] = listings_selection['price'].str.replace('[$|,]', '').astype(np.float)\n",
    "\n",
    "\n",
    "listings_selection.head()"
   ],
   "metadata": {
    "collapsed": false,
    "pycharm": {
     "name": "#%%\n"
    }
   }
  },
  {
   "cell_type": "code",
   "execution_count": 46,
   "outputs": [
    {
     "name": "stderr",
     "output_type": "stream",
     "text": [
      "C:\\Users\\giach\\AppData\\Local\\Temp/ipykernel_10356/4129026893.py:1: SettingWithCopyWarning: \n",
      "A value is trying to be set on a copy of a slice from a DataFrame.\n",
      "Try using .loc[row_indexer,col_indexer] = value instead\n",
      "\n",
      "See the caveats in the documentation: https://pandas.pydata.org/pandas-docs/stable/user_guide/indexing.html#returning-a-view-versus-a-copy\n",
      "  listings_selection['bathrooms_text'] = listings_selection['bathrooms_text'].str.contains('shared')\n"
     ]
    },
    {
     "data": {
      "text/plain": "       id neighbourhood_cleansed        room_type  accommodates  \\\n0   42196          Santo Stefano  Entire home/apt             2   \n1   46352      Porto - Saragozza     Private room             2   \n2   59697          Santo Stefano     Private room             2   \n3   85368          Santo Stefano  Entire home/apt             2   \n4  145779      Porto - Saragozza     Private room             1   \n\n  bathrooms_text  price  Kitchen   Wifi  \n0          False   68.0     True  False  \n1           True   29.0     True  False  \n2           True   50.0     True  False  \n3          False  126.0     True   True  \n4           True   50.0    False  False  ",
      "text/html": "<div>\n<style scoped>\n    .dataframe tbody tr th:only-of-type {\n        vertical-align: middle;\n    }\n\n    .dataframe tbody tr th {\n        vertical-align: top;\n    }\n\n    .dataframe thead th {\n        text-align: right;\n    }\n</style>\n<table border=\"1\" class=\"dataframe\">\n  <thead>\n    <tr style=\"text-align: right;\">\n      <th></th>\n      <th>id</th>\n      <th>neighbourhood_cleansed</th>\n      <th>room_type</th>\n      <th>accommodates</th>\n      <th>bathrooms_text</th>\n      <th>price</th>\n      <th>Kitchen</th>\n      <th>Wifi</th>\n    </tr>\n  </thead>\n  <tbody>\n    <tr>\n      <th>0</th>\n      <td>42196</td>\n      <td>Santo Stefano</td>\n      <td>Entire home/apt</td>\n      <td>2</td>\n      <td>False</td>\n      <td>68.0</td>\n      <td>True</td>\n      <td>False</td>\n    </tr>\n    <tr>\n      <th>1</th>\n      <td>46352</td>\n      <td>Porto - Saragozza</td>\n      <td>Private room</td>\n      <td>2</td>\n      <td>True</td>\n      <td>29.0</td>\n      <td>True</td>\n      <td>False</td>\n    </tr>\n    <tr>\n      <th>2</th>\n      <td>59697</td>\n      <td>Santo Stefano</td>\n      <td>Private room</td>\n      <td>2</td>\n      <td>True</td>\n      <td>50.0</td>\n      <td>True</td>\n      <td>False</td>\n    </tr>\n    <tr>\n      <th>3</th>\n      <td>85368</td>\n      <td>Santo Stefano</td>\n      <td>Entire home/apt</td>\n      <td>2</td>\n      <td>False</td>\n      <td>126.0</td>\n      <td>True</td>\n      <td>True</td>\n    </tr>\n    <tr>\n      <th>4</th>\n      <td>145779</td>\n      <td>Porto - Saragozza</td>\n      <td>Private room</td>\n      <td>1</td>\n      <td>True</td>\n      <td>50.0</td>\n      <td>False</td>\n      <td>False</td>\n    </tr>\n  </tbody>\n</table>\n</div>"
     },
     "execution_count": 46,
     "metadata": {},
     "output_type": "execute_result"
    }
   ],
   "source": [
    "listings_selection['bathrooms_text'] = listings_selection['bathrooms_text'].str.contains('shared')\n",
    "\n",
    "listings_selection.head()"
   ],
   "metadata": {
    "collapsed": false,
    "pycharm": {
     "name": "#%%\n"
    }
   }
  },
  {
   "cell_type": "code",
   "execution_count": 65,
   "outputs": [],
   "source": [
    "cat, bins = pd.cut(listings_selection['price'], [0, 50, 150, 500, 10000], labels=['<50', '50-150', '150-500', '>500'], retbins=True)"
   ],
   "metadata": {
    "collapsed": false,
    "pycharm": {
     "name": "#%%\n"
    }
   }
  },
  {
   "cell_type": "code",
   "execution_count": 84,
   "outputs": [
    {
     "name": "stderr",
     "output_type": "stream",
     "text": [
      "C:\\Users\\giach\\AppData\\Local\\Temp/ipykernel_10356/254853864.py:1: SettingWithCopyWarning: \n",
      "A value is trying to be set on a copy of a slice from a DataFrame.\n",
      "Try using .loc[row_indexer,col_indexer] = value instead\n",
      "\n",
      "See the caveats in the documentation: https://pandas.pydata.org/pandas-docs/stable/user_guide/indexing.html#returning-a-view-versus-a-copy\n",
      "  listings_selection['price'] = cat\n"
     ]
    }
   ],
   "source": [
    "listings_selection['price'] = cat"
   ],
   "metadata": {
    "collapsed": false,
    "pycharm": {
     "name": "#%%\n"
    }
   }
  },
  {
   "cell_type": "code",
   "execution_count": 85,
   "outputs": [
    {
     "data": {
      "text/plain": "                 id  accommodates\ncount  3.453000e+03   3453.000000\nmean   2.950218e+07      3.312192\nstd    1.523988e+07      1.644671\nmin    4.219600e+04      1.000000\n25%    1.748597e+07      2.000000\n50%    3.078707e+07      3.000000\n75%    4.220094e+07      4.000000\nmax    5.385496e+07     16.000000",
      "text/html": "<div>\n<style scoped>\n    .dataframe tbody tr th:only-of-type {\n        vertical-align: middle;\n    }\n\n    .dataframe tbody tr th {\n        vertical-align: top;\n    }\n\n    .dataframe thead th {\n        text-align: right;\n    }\n</style>\n<table border=\"1\" class=\"dataframe\">\n  <thead>\n    <tr style=\"text-align: right;\">\n      <th></th>\n      <th>id</th>\n      <th>accommodates</th>\n    </tr>\n  </thead>\n  <tbody>\n    <tr>\n      <th>count</th>\n      <td>3.453000e+03</td>\n      <td>3453.000000</td>\n    </tr>\n    <tr>\n      <th>mean</th>\n      <td>2.950218e+07</td>\n      <td>3.312192</td>\n    </tr>\n    <tr>\n      <th>std</th>\n      <td>1.523988e+07</td>\n      <td>1.644671</td>\n    </tr>\n    <tr>\n      <th>min</th>\n      <td>4.219600e+04</td>\n      <td>1.000000</td>\n    </tr>\n    <tr>\n      <th>25%</th>\n      <td>1.748597e+07</td>\n      <td>2.000000</td>\n    </tr>\n    <tr>\n      <th>50%</th>\n      <td>3.078707e+07</td>\n      <td>3.000000</td>\n    </tr>\n    <tr>\n      <th>75%</th>\n      <td>4.220094e+07</td>\n      <td>4.000000</td>\n    </tr>\n    <tr>\n      <th>max</th>\n      <td>5.385496e+07</td>\n      <td>16.000000</td>\n    </tr>\n  </tbody>\n</table>\n</div>"
     },
     "execution_count": 85,
     "metadata": {},
     "output_type": "execute_result"
    }
   ],
   "source": [
    "listings_selection.describe()"
   ],
   "metadata": {
    "collapsed": false,
    "pycharm": {
     "name": "#%%\n"
    }
   }
  },
  {
   "cell_type": "code",
   "execution_count": 81,
   "outputs": [
    {
     "data": {
      "text/plain": "count       3453\nunique         4\ntop       50-150\nfreq        2242\nName: price, dtype: object"
     },
     "execution_count": 81,
     "metadata": {},
     "output_type": "execute_result"
    }
   ],
   "source": [
    "cat.describe()"
   ],
   "metadata": {
    "collapsed": false,
    "pycharm": {
     "name": "#%%\n"
    }
   }
  },
  {
   "cell_type": "code",
   "execution_count": 82,
   "outputs": [
    {
     "ename": "KeyError",
     "evalue": "'price'",
     "output_type": "error",
     "traceback": [
      "\u001B[1;31m---------------------------------------------------------------------------\u001B[0m",
      "\u001B[1;31mKeyError\u001B[0m                                  Traceback (most recent call last)",
      "\u001B[1;32m~\\AppData\\Local\\Temp/ipykernel_10356/685611544.py\u001B[0m in \u001B[0;36m<module>\u001B[1;34m\u001B[0m\n\u001B[1;32m----> 1\u001B[1;33m \u001B[0mcat\u001B[0m\u001B[1;33m.\u001B[0m\u001B[0mgroupby\u001B[0m\u001B[1;33m(\u001B[0m\u001B[0mby\u001B[0m\u001B[1;33m=\u001B[0m\u001B[1;34m'price'\u001B[0m\u001B[1;33m)\u001B[0m\u001B[1;33m.\u001B[0m\u001B[0mvalue_counts\u001B[0m\u001B[1;33m(\u001B[0m\u001B[1;33m)\u001B[0m\u001B[1;33m\u001B[0m\u001B[1;33m\u001B[0m\u001B[0m\n\u001B[0m",
      "\u001B[1;32m~\\anaconda3\\envs\\ml\\lib\\site-packages\\pandas\\core\\series.py\u001B[0m in \u001B[0;36mgroupby\u001B[1;34m(self, by, axis, level, as_index, sort, group_keys, squeeze, observed, dropna)\u001B[0m\n\u001B[0;32m   1882\u001B[0m         \u001B[1;31m# error: Argument \"squeeze\" to \"SeriesGroupBy\" has incompatible type\u001B[0m\u001B[1;33m\u001B[0m\u001B[1;33m\u001B[0m\u001B[0m\n\u001B[0;32m   1883\u001B[0m         \u001B[1;31m# \"Union[bool, NoDefault]\"; expected \"bool\"\u001B[0m\u001B[1;33m\u001B[0m\u001B[1;33m\u001B[0m\u001B[0m\n\u001B[1;32m-> 1884\u001B[1;33m         return SeriesGroupBy(\n\u001B[0m\u001B[0;32m   1885\u001B[0m             \u001B[0mobj\u001B[0m\u001B[1;33m=\u001B[0m\u001B[0mself\u001B[0m\u001B[1;33m,\u001B[0m\u001B[1;33m\u001B[0m\u001B[1;33m\u001B[0m\u001B[0m\n\u001B[0;32m   1886\u001B[0m             \u001B[0mkeys\u001B[0m\u001B[1;33m=\u001B[0m\u001B[0mby\u001B[0m\u001B[1;33m,\u001B[0m\u001B[1;33m\u001B[0m\u001B[1;33m\u001B[0m\u001B[0m\n",
      "\u001B[1;32m~\\anaconda3\\envs\\ml\\lib\\site-packages\\pandas\\core\\groupby\\groupby.py\u001B[0m in \u001B[0;36m__init__\u001B[1;34m(self, obj, keys, axis, level, grouper, exclusions, selection, as_index, sort, group_keys, squeeze, observed, mutated, dropna)\u001B[0m\n\u001B[0;32m    887\u001B[0m             \u001B[1;32mfrom\u001B[0m \u001B[0mpandas\u001B[0m\u001B[1;33m.\u001B[0m\u001B[0mcore\u001B[0m\u001B[1;33m.\u001B[0m\u001B[0mgroupby\u001B[0m\u001B[1;33m.\u001B[0m\u001B[0mgrouper\u001B[0m \u001B[1;32mimport\u001B[0m \u001B[0mget_grouper\u001B[0m\u001B[1;33m\u001B[0m\u001B[1;33m\u001B[0m\u001B[0m\n\u001B[0;32m    888\u001B[0m \u001B[1;33m\u001B[0m\u001B[0m\n\u001B[1;32m--> 889\u001B[1;33m             grouper, exclusions, obj = get_grouper(\n\u001B[0m\u001B[0;32m    890\u001B[0m                 \u001B[0mobj\u001B[0m\u001B[1;33m,\u001B[0m\u001B[1;33m\u001B[0m\u001B[1;33m\u001B[0m\u001B[0m\n\u001B[0;32m    891\u001B[0m                 \u001B[0mkeys\u001B[0m\u001B[1;33m,\u001B[0m\u001B[1;33m\u001B[0m\u001B[1;33m\u001B[0m\u001B[0m\n",
      "\u001B[1;32m~\\anaconda3\\envs\\ml\\lib\\site-packages\\pandas\\core\\groupby\\grouper.py\u001B[0m in \u001B[0;36mget_grouper\u001B[1;34m(obj, key, axis, level, sort, observed, mutated, validate, dropna)\u001B[0m\n\u001B[0;32m    860\u001B[0m                 \u001B[0min_axis\u001B[0m\u001B[1;33m,\u001B[0m \u001B[0mlevel\u001B[0m\u001B[1;33m,\u001B[0m \u001B[0mgpr\u001B[0m \u001B[1;33m=\u001B[0m \u001B[1;32mFalse\u001B[0m\u001B[1;33m,\u001B[0m \u001B[0mgpr\u001B[0m\u001B[1;33m,\u001B[0m \u001B[1;32mNone\u001B[0m\u001B[1;33m\u001B[0m\u001B[1;33m\u001B[0m\u001B[0m\n\u001B[0;32m    861\u001B[0m             \u001B[1;32melse\u001B[0m\u001B[1;33m:\u001B[0m\u001B[1;33m\u001B[0m\u001B[1;33m\u001B[0m\u001B[0m\n\u001B[1;32m--> 862\u001B[1;33m                 \u001B[1;32mraise\u001B[0m \u001B[0mKeyError\u001B[0m\u001B[1;33m(\u001B[0m\u001B[0mgpr\u001B[0m\u001B[1;33m)\u001B[0m\u001B[1;33m\u001B[0m\u001B[1;33m\u001B[0m\u001B[0m\n\u001B[0m\u001B[0;32m    863\u001B[0m         \u001B[1;32melif\u001B[0m \u001B[0misinstance\u001B[0m\u001B[1;33m(\u001B[0m\u001B[0mgpr\u001B[0m\u001B[1;33m,\u001B[0m \u001B[0mGrouper\u001B[0m\u001B[1;33m)\u001B[0m \u001B[1;32mand\u001B[0m \u001B[0mgpr\u001B[0m\u001B[1;33m.\u001B[0m\u001B[0mkey\u001B[0m \u001B[1;32mis\u001B[0m \u001B[1;32mnot\u001B[0m \u001B[1;32mNone\u001B[0m\u001B[1;33m:\u001B[0m\u001B[1;33m\u001B[0m\u001B[1;33m\u001B[0m\u001B[0m\n\u001B[0;32m    864\u001B[0m             \u001B[1;31m# Add key to exclusions\u001B[0m\u001B[1;33m\u001B[0m\u001B[1;33m\u001B[0m\u001B[0m\n",
      "\u001B[1;31mKeyError\u001B[0m: 'price'"
     ]
    }
   ],
   "source": [
    "\n",
    "cat.groupby(by='price').value_counts()"
   ],
   "metadata": {
    "collapsed": false,
    "pycharm": {
     "name": "#%%\n"
    }
   }
  }
 ],
 "metadata": {
  "kernelspec": {
   "name": "pycharm-73773954",
   "language": "python",
   "display_name": "PyCharm (Lab on topic 03-03 - Usage of several classifiers-20211103)"
  },
  "language_info": {
   "codemirror_mode": {
    "name": "ipython",
    "version": 2
   },
   "file_extension": ".py",
   "mimetype": "text/x-python",
   "name": "python",
   "nbconvert_exporter": "python",
   "pygments_lexer": "ipython2",
   "version": "2.7.6"
  }
 },
 "nbformat": 4,
 "nbformat_minor": 0
}