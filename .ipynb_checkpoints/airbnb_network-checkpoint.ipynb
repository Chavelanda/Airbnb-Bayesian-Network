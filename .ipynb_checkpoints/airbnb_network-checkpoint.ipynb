{
 "cells": [
  {
   "cell_type": "markdown",
   "metadata": {},
   "source": [
    "# Bayesian Network: AirBnb houses in Bologna\n",
    "## Importing libraries"
   ]
  },
  {
   "cell_type": "code",
   "execution_count": 1,
   "metadata": {},
   "outputs": [
    {
     "name": "stdout",
     "output_type": "stream",
     "text": [
      "Libraries imported\n"
     ]
    }
   ],
   "source": [
    "import pandas as pd\n",
    "import numpy as np\n",
    "import pgmpy\n",
    "\n",
    "print('Libraries imported')"
   ]
  },
  {
   "cell_type": "markdown",
   "metadata": {
    "pycharm": {
     "name": "#%% md\n"
    }
   },
   "source": [
    "## Loading Airbnb database"
   ]
  },
  {
   "cell_type": "code",
   "execution_count": 2,
   "metadata": {
    "pycharm": {
     "name": "#%%\n"
    }
   },
   "outputs": [
    {
     "data": {
      "text/html": [
       "<div>\n",
       "<style scoped>\n",
       "    .dataframe tbody tr th:only-of-type {\n",
       "        vertical-align: middle;\n",
       "    }\n",
       "\n",
       "    .dataframe tbody tr th {\n",
       "        vertical-align: top;\n",
       "    }\n",
       "\n",
       "    .dataframe thead th {\n",
       "        text-align: right;\n",
       "    }\n",
       "</style>\n",
       "<table border=\"1\" class=\"dataframe\">\n",
       "  <thead>\n",
       "    <tr style=\"text-align: right;\">\n",
       "      <th></th>\n",
       "      <th>id</th>\n",
       "      <th>listing_url</th>\n",
       "      <th>scrape_id</th>\n",
       "      <th>last_scraped</th>\n",
       "      <th>name</th>\n",
       "      <th>description</th>\n",
       "      <th>neighborhood_overview</th>\n",
       "      <th>picture_url</th>\n",
       "      <th>host_id</th>\n",
       "      <th>host_url</th>\n",
       "      <th>...</th>\n",
       "      <th>review_scores_communication</th>\n",
       "      <th>review_scores_location</th>\n",
       "      <th>review_scores_value</th>\n",
       "      <th>license</th>\n",
       "      <th>instant_bookable</th>\n",
       "      <th>calculated_host_listings_count</th>\n",
       "      <th>calculated_host_listings_count_entire_homes</th>\n",
       "      <th>calculated_host_listings_count_private_rooms</th>\n",
       "      <th>calculated_host_listings_count_shared_rooms</th>\n",
       "      <th>reviews_per_month</th>\n",
       "    </tr>\n",
       "  </thead>\n",
       "  <tbody>\n",
       "    <tr>\n",
       "      <th>0</th>\n",
       "      <td>42196</td>\n",
       "      <td>https://www.airbnb.com/rooms/42196</td>\n",
       "      <td>20211217003510</td>\n",
       "      <td>2021-12-17</td>\n",
       "      <td>50 sm Studio in the historic centre</td>\n",
       "      <td>&lt;b&gt;The space&lt;/b&gt;&lt;br /&gt;Really cozy and typical ...</td>\n",
       "      <td>NaN</td>\n",
       "      <td>https://a0.muscache.com/pictures/4775726/68044...</td>\n",
       "      <td>184487</td>\n",
       "      <td>https://www.airbnb.com/users/show/184487</td>\n",
       "      <td>...</td>\n",
       "      <td>4.85</td>\n",
       "      <td>4.85</td>\n",
       "      <td>4.70</td>\n",
       "      <td>NaN</td>\n",
       "      <td>t</td>\n",
       "      <td>1</td>\n",
       "      <td>1</td>\n",
       "      <td>0</td>\n",
       "      <td>0</td>\n",
       "      <td>1.32</td>\n",
       "    </tr>\n",
       "    <tr>\n",
       "      <th>1</th>\n",
       "      <td>46352</td>\n",
       "      <td>https://www.airbnb.com/rooms/46352</td>\n",
       "      <td>20211217003510</td>\n",
       "      <td>2021-12-17</td>\n",
       "      <td>A room in Pasolini's house</td>\n",
       "      <td>Simple, cozy and silent room in a lived house ...</td>\n",
       "      <td>In the very nearby you have Via Saragozza whic...</td>\n",
       "      <td>https://a0.muscache.com/pictures/9f94acc3-98fc...</td>\n",
       "      <td>467810</td>\n",
       "      <td>https://www.airbnb.com/users/show/467810</td>\n",
       "      <td>...</td>\n",
       "      <td>4.79</td>\n",
       "      <td>4.80</td>\n",
       "      <td>4.59</td>\n",
       "      <td>NaN</td>\n",
       "      <td>f</td>\n",
       "      <td>2</td>\n",
       "      <td>0</td>\n",
       "      <td>2</td>\n",
       "      <td>0</td>\n",
       "      <td>2.20</td>\n",
       "    </tr>\n",
       "    <tr>\n",
       "      <th>2</th>\n",
       "      <td>59697</td>\n",
       "      <td>https://www.airbnb.com/rooms/59697</td>\n",
       "      <td>20211217003510</td>\n",
       "      <td>2021-12-17</td>\n",
       "      <td>COZY LARGE BEDROOM in the city center</td>\n",
       "      <td>Cozy, spacious and bright double bedroom, in a...</td>\n",
       "      <td>NaN</td>\n",
       "      <td>https://a0.muscache.com/pictures/ac0528c4-b26f...</td>\n",
       "      <td>286688</td>\n",
       "      <td>https://www.airbnb.com/users/show/286688</td>\n",
       "      <td>...</td>\n",
       "      <td>4.79</td>\n",
       "      <td>4.82</td>\n",
       "      <td>4.66</td>\n",
       "      <td>NaN</td>\n",
       "      <td>f</td>\n",
       "      <td>2</td>\n",
       "      <td>0</td>\n",
       "      <td>2</td>\n",
       "      <td>0</td>\n",
       "      <td>2.18</td>\n",
       "    </tr>\n",
       "  </tbody>\n",
       "</table>\n",
       "<p>3 rows × 74 columns</p>\n",
       "</div>"
      ],
      "text/plain": [
       "      id                         listing_url       scrape_id last_scraped  \\\n",
       "0  42196  https://www.airbnb.com/rooms/42196  20211217003510   2021-12-17   \n",
       "1  46352  https://www.airbnb.com/rooms/46352  20211217003510   2021-12-17   \n",
       "2  59697  https://www.airbnb.com/rooms/59697  20211217003510   2021-12-17   \n",
       "\n",
       "                                    name  \\\n",
       "0    50 sm Studio in the historic centre   \n",
       "1             A room in Pasolini's house   \n",
       "2  COZY LARGE BEDROOM in the city center   \n",
       "\n",
       "                                         description  \\\n",
       "0  <b>The space</b><br />Really cozy and typical ...   \n",
       "1  Simple, cozy and silent room in a lived house ...   \n",
       "2  Cozy, spacious and bright double bedroom, in a...   \n",
       "\n",
       "                               neighborhood_overview  \\\n",
       "0                                                NaN   \n",
       "1  In the very nearby you have Via Saragozza whic...   \n",
       "2                                                NaN   \n",
       "\n",
       "                                         picture_url  host_id  \\\n",
       "0  https://a0.muscache.com/pictures/4775726/68044...   184487   \n",
       "1  https://a0.muscache.com/pictures/9f94acc3-98fc...   467810   \n",
       "2  https://a0.muscache.com/pictures/ac0528c4-b26f...   286688   \n",
       "\n",
       "                                   host_url  ... review_scores_communication  \\\n",
       "0  https://www.airbnb.com/users/show/184487  ...                        4.85   \n",
       "1  https://www.airbnb.com/users/show/467810  ...                        4.79   \n",
       "2  https://www.airbnb.com/users/show/286688  ...                        4.79   \n",
       "\n",
       "  review_scores_location review_scores_value license instant_bookable  \\\n",
       "0                   4.85                4.70     NaN                t   \n",
       "1                   4.80                4.59     NaN                f   \n",
       "2                   4.82                4.66     NaN                f   \n",
       "\n",
       "  calculated_host_listings_count calculated_host_listings_count_entire_homes  \\\n",
       "0                              1                                           1   \n",
       "1                              2                                           0   \n",
       "2                              2                                           0   \n",
       "\n",
       "  calculated_host_listings_count_private_rooms  \\\n",
       "0                                            0   \n",
       "1                                            2   \n",
       "2                                            2   \n",
       "\n",
       "  calculated_host_listings_count_shared_rooms reviews_per_month  \n",
       "0                                           0              1.32  \n",
       "1                                           0              2.20  \n",
       "2                                           0              2.18  \n",
       "\n",
       "[3 rows x 74 columns]"
      ]
     },
     "execution_count": 2,
     "metadata": {},
     "output_type": "execute_result"
    }
   ],
   "source": [
    "listings = pd.read_csv(\"listings.csv\")\n",
    "listings.head(3)"
   ]
  },
  {
   "cell_type": "markdown",
   "metadata": {},
   "source": [
    "## Preprocessing\n",
    "1. Encoding amenities as one-hot array"
   ]
  },
  {
   "cell_type": "code",
   "execution_count": 3,
   "metadata": {
    "pycharm": {
     "name": "#%%\n"
    }
   },
   "outputs": [
    {
     "data": {
      "text/html": [
       "<div>\n",
       "<style scoped>\n",
       "    .dataframe tbody tr th:only-of-type {\n",
       "        vertical-align: middle;\n",
       "    }\n",
       "\n",
       "    .dataframe tbody tr th {\n",
       "        vertical-align: top;\n",
       "    }\n",
       "\n",
       "    .dataframe thead th {\n",
       "        text-align: right;\n",
       "    }\n",
       "</style>\n",
       "<table border=\"1\" class=\"dataframe\">\n",
       "  <thead>\n",
       "    <tr style=\"text-align: right;\">\n",
       "      <th></th>\n",
       "      <th>id</th>\n",
       "      <th>listing_url</th>\n",
       "      <th>scrape_id</th>\n",
       "      <th>last_scraped</th>\n",
       "      <th>name</th>\n",
       "      <th>description</th>\n",
       "      <th>neighborhood_overview</th>\n",
       "      <th>picture_url</th>\n",
       "      <th>host_id</th>\n",
       "      <th>host_url</th>\n",
       "      <th>...</th>\n",
       "      <th>review_scores_value</th>\n",
       "      <th>license</th>\n",
       "      <th>instant_bookable</th>\n",
       "      <th>calculated_host_listings_count</th>\n",
       "      <th>calculated_host_listings_count_entire_homes</th>\n",
       "      <th>calculated_host_listings_count_private_rooms</th>\n",
       "      <th>calculated_host_listings_count_shared_rooms</th>\n",
       "      <th>reviews_per_month</th>\n",
       "      <th>kitchen</th>\n",
       "      <th>wifi</th>\n",
       "    </tr>\n",
       "  </thead>\n",
       "  <tbody>\n",
       "    <tr>\n",
       "      <th>0</th>\n",
       "      <td>42196</td>\n",
       "      <td>https://www.airbnb.com/rooms/42196</td>\n",
       "      <td>20211217003510</td>\n",
       "      <td>2021-12-17</td>\n",
       "      <td>50 sm Studio in the historic centre</td>\n",
       "      <td>&lt;b&gt;The space&lt;/b&gt;&lt;br /&gt;Really cozy and typical ...</td>\n",
       "      <td>NaN</td>\n",
       "      <td>https://a0.muscache.com/pictures/4775726/68044...</td>\n",
       "      <td>184487</td>\n",
       "      <td>https://www.airbnb.com/users/show/184487</td>\n",
       "      <td>...</td>\n",
       "      <td>4.70</td>\n",
       "      <td>NaN</td>\n",
       "      <td>t</td>\n",
       "      <td>1</td>\n",
       "      <td>1</td>\n",
       "      <td>0</td>\n",
       "      <td>0</td>\n",
       "      <td>1.32</td>\n",
       "      <td>True</td>\n",
       "      <td>False</td>\n",
       "    </tr>\n",
       "    <tr>\n",
       "      <th>1</th>\n",
       "      <td>46352</td>\n",
       "      <td>https://www.airbnb.com/rooms/46352</td>\n",
       "      <td>20211217003510</td>\n",
       "      <td>2021-12-17</td>\n",
       "      <td>A room in Pasolini's house</td>\n",
       "      <td>Simple, cozy and silent room in a lived house ...</td>\n",
       "      <td>In the very nearby you have Via Saragozza whic...</td>\n",
       "      <td>https://a0.muscache.com/pictures/9f94acc3-98fc...</td>\n",
       "      <td>467810</td>\n",
       "      <td>https://www.airbnb.com/users/show/467810</td>\n",
       "      <td>...</td>\n",
       "      <td>4.59</td>\n",
       "      <td>NaN</td>\n",
       "      <td>f</td>\n",
       "      <td>2</td>\n",
       "      <td>0</td>\n",
       "      <td>2</td>\n",
       "      <td>0</td>\n",
       "      <td>2.20</td>\n",
       "      <td>True</td>\n",
       "      <td>False</td>\n",
       "    </tr>\n",
       "    <tr>\n",
       "      <th>2</th>\n",
       "      <td>59697</td>\n",
       "      <td>https://www.airbnb.com/rooms/59697</td>\n",
       "      <td>20211217003510</td>\n",
       "      <td>2021-12-17</td>\n",
       "      <td>COZY LARGE BEDROOM in the city center</td>\n",
       "      <td>Cozy, spacious and bright double bedroom, in a...</td>\n",
       "      <td>NaN</td>\n",
       "      <td>https://a0.muscache.com/pictures/ac0528c4-b26f...</td>\n",
       "      <td>286688</td>\n",
       "      <td>https://www.airbnb.com/users/show/286688</td>\n",
       "      <td>...</td>\n",
       "      <td>4.66</td>\n",
       "      <td>NaN</td>\n",
       "      <td>f</td>\n",
       "      <td>2</td>\n",
       "      <td>0</td>\n",
       "      <td>2</td>\n",
       "      <td>0</td>\n",
       "      <td>2.18</td>\n",
       "      <td>True</td>\n",
       "      <td>False</td>\n",
       "    </tr>\n",
       "  </tbody>\n",
       "</table>\n",
       "<p>3 rows × 76 columns</p>\n",
       "</div>"
      ],
      "text/plain": [
       "      id                         listing_url       scrape_id last_scraped  \\\n",
       "0  42196  https://www.airbnb.com/rooms/42196  20211217003510   2021-12-17   \n",
       "1  46352  https://www.airbnb.com/rooms/46352  20211217003510   2021-12-17   \n",
       "2  59697  https://www.airbnb.com/rooms/59697  20211217003510   2021-12-17   \n",
       "\n",
       "                                    name  \\\n",
       "0    50 sm Studio in the historic centre   \n",
       "1             A room in Pasolini's house   \n",
       "2  COZY LARGE BEDROOM in the city center   \n",
       "\n",
       "                                         description  \\\n",
       "0  <b>The space</b><br />Really cozy and typical ...   \n",
       "1  Simple, cozy and silent room in a lived house ...   \n",
       "2  Cozy, spacious and bright double bedroom, in a...   \n",
       "\n",
       "                               neighborhood_overview  \\\n",
       "0                                                NaN   \n",
       "1  In the very nearby you have Via Saragozza whic...   \n",
       "2                                                NaN   \n",
       "\n",
       "                                         picture_url  host_id  \\\n",
       "0  https://a0.muscache.com/pictures/4775726/68044...   184487   \n",
       "1  https://a0.muscache.com/pictures/9f94acc3-98fc...   467810   \n",
       "2  https://a0.muscache.com/pictures/ac0528c4-b26f...   286688   \n",
       "\n",
       "                                   host_url  ... review_scores_value license  \\\n",
       "0  https://www.airbnb.com/users/show/184487  ...                4.70     NaN   \n",
       "1  https://www.airbnb.com/users/show/467810  ...                4.59     NaN   \n",
       "2  https://www.airbnb.com/users/show/286688  ...                4.66     NaN   \n",
       "\n",
       "  instant_bookable calculated_host_listings_count  \\\n",
       "0                t                              1   \n",
       "1                f                              2   \n",
       "2                f                              2   \n",
       "\n",
       "  calculated_host_listings_count_entire_homes  \\\n",
       "0                                           1   \n",
       "1                                           0   \n",
       "2                                           0   \n",
       "\n",
       "  calculated_host_listings_count_private_rooms  \\\n",
       "0                                            0   \n",
       "1                                            2   \n",
       "2                                            2   \n",
       "\n",
       "  calculated_host_listings_count_shared_rooms reviews_per_month kitchen   wifi  \n",
       "0                                           0              1.32    True  False  \n",
       "1                                           0              2.20    True  False  \n",
       "2                                           0              2.18    True  False  \n",
       "\n",
       "[3 rows x 76 columns]"
      ]
     },
     "execution_count": 3,
     "metadata": {},
     "output_type": "execute_result"
    }
   ],
   "source": [
    "listings = pd.concat([listings, listings['amenities'].str.get_dummies(sep='\", \"').astype(bool)[['Kitchen', 'Wifi']]], axis=1)\n",
    "listings = listings.rename(columns = {'Kitchen': 'kitchen', 'Wifi': 'wifi'})\n",
    "listings.head(3)"
   ]
  },
  {
   "cell_type": "markdown",
   "metadata": {
    "pycharm": {
     "name": "#%% md\n"
    }
   },
   "source": [
    "2. Selecting relevant columns for the Bayesian Network"
   ]
  },
  {
   "cell_type": "code",
   "execution_count": 4,
   "metadata": {
    "pycharm": {
     "name": "#%%\n"
    }
   },
   "outputs": [
    {
     "data": {
      "text/html": [
       "<div>\n",
       "<style scoped>\n",
       "    .dataframe tbody tr th:only-of-type {\n",
       "        vertical-align: middle;\n",
       "    }\n",
       "\n",
       "    .dataframe tbody tr th {\n",
       "        vertical-align: top;\n",
       "    }\n",
       "\n",
       "    .dataframe thead th {\n",
       "        text-align: right;\n",
       "    }\n",
       "</style>\n",
       "<table border=\"1\" class=\"dataframe\">\n",
       "  <thead>\n",
       "    <tr style=\"text-align: right;\">\n",
       "      <th></th>\n",
       "      <th>id</th>\n",
       "      <th>neighbourhood_cleansed</th>\n",
       "      <th>room_type</th>\n",
       "      <th>accommodates</th>\n",
       "      <th>bathrooms_text</th>\n",
       "      <th>price</th>\n",
       "      <th>kitchen</th>\n",
       "      <th>wifi</th>\n",
       "    </tr>\n",
       "  </thead>\n",
       "  <tbody>\n",
       "    <tr>\n",
       "      <th>0</th>\n",
       "      <td>42196</td>\n",
       "      <td>Santo Stefano</td>\n",
       "      <td>Entire home/apt</td>\n",
       "      <td>2</td>\n",
       "      <td>1 bath</td>\n",
       "      <td>$68.00</td>\n",
       "      <td>True</td>\n",
       "      <td>False</td>\n",
       "    </tr>\n",
       "    <tr>\n",
       "      <th>1</th>\n",
       "      <td>46352</td>\n",
       "      <td>Porto - Saragozza</td>\n",
       "      <td>Private room</td>\n",
       "      <td>2</td>\n",
       "      <td>1 shared bath</td>\n",
       "      <td>$29.00</td>\n",
       "      <td>True</td>\n",
       "      <td>False</td>\n",
       "    </tr>\n",
       "    <tr>\n",
       "      <th>2</th>\n",
       "      <td>59697</td>\n",
       "      <td>Santo Stefano</td>\n",
       "      <td>Private room</td>\n",
       "      <td>2</td>\n",
       "      <td>1 shared bath</td>\n",
       "      <td>$50.00</td>\n",
       "      <td>True</td>\n",
       "      <td>False</td>\n",
       "    </tr>\n",
       "  </tbody>\n",
       "</table>\n",
       "</div>"
      ],
      "text/plain": [
       "      id neighbourhood_cleansed        room_type  accommodates bathrooms_text  \\\n",
       "0  42196          Santo Stefano  Entire home/apt             2         1 bath   \n",
       "1  46352      Porto - Saragozza     Private room             2  1 shared bath   \n",
       "2  59697          Santo Stefano     Private room             2  1 shared bath   \n",
       "\n",
       "    price  kitchen   wifi  \n",
       "0  $68.00     True  False  \n",
       "1  $29.00     True  False  \n",
       "2  $50.00     True  False  "
      ]
     },
     "execution_count": 4,
     "metadata": {},
     "output_type": "execute_result"
    }
   ],
   "source": [
    "columns = ['id', 'neighbourhood_cleansed', 'room_type', 'accommodates', 'bathrooms_text', 'price', 'kitchen', 'wifi']\n",
    "listings_selection = listings.loc[:, columns]\n",
    "listings_selection.head(3)"
   ]
  },
  {
   "cell_type": "markdown",
   "metadata": {
    "pycharm": {
     "name": "#%% md\n"
    }
   },
   "source": [
    "3. Parsing price into float"
   ]
  },
  {
   "cell_type": "code",
   "execution_count": 5,
   "metadata": {
    "pycharm": {
     "name": "#%%\n"
    }
   },
   "outputs": [
    {
     "data": {
      "text/html": [
       "<div>\n",
       "<style scoped>\n",
       "    .dataframe tbody tr th:only-of-type {\n",
       "        vertical-align: middle;\n",
       "    }\n",
       "\n",
       "    .dataframe tbody tr th {\n",
       "        vertical-align: top;\n",
       "    }\n",
       "\n",
       "    .dataframe thead th {\n",
       "        text-align: right;\n",
       "    }\n",
       "</style>\n",
       "<table border=\"1\" class=\"dataframe\">\n",
       "  <thead>\n",
       "    <tr style=\"text-align: right;\">\n",
       "      <th></th>\n",
       "      <th>id</th>\n",
       "      <th>neighbourhood_cleansed</th>\n",
       "      <th>room_type</th>\n",
       "      <th>accommodates</th>\n",
       "      <th>bathrooms_text</th>\n",
       "      <th>price</th>\n",
       "      <th>kitchen</th>\n",
       "      <th>wifi</th>\n",
       "    </tr>\n",
       "  </thead>\n",
       "  <tbody>\n",
       "    <tr>\n",
       "      <th>0</th>\n",
       "      <td>42196</td>\n",
       "      <td>Santo Stefano</td>\n",
       "      <td>Entire home/apt</td>\n",
       "      <td>2</td>\n",
       "      <td>1 bath</td>\n",
       "      <td>68.0</td>\n",
       "      <td>True</td>\n",
       "      <td>False</td>\n",
       "    </tr>\n",
       "    <tr>\n",
       "      <th>1</th>\n",
       "      <td>46352</td>\n",
       "      <td>Porto - Saragozza</td>\n",
       "      <td>Private room</td>\n",
       "      <td>2</td>\n",
       "      <td>1 shared bath</td>\n",
       "      <td>29.0</td>\n",
       "      <td>True</td>\n",
       "      <td>False</td>\n",
       "    </tr>\n",
       "    <tr>\n",
       "      <th>2</th>\n",
       "      <td>59697</td>\n",
       "      <td>Santo Stefano</td>\n",
       "      <td>Private room</td>\n",
       "      <td>2</td>\n",
       "      <td>1 shared bath</td>\n",
       "      <td>50.0</td>\n",
       "      <td>True</td>\n",
       "      <td>False</td>\n",
       "    </tr>\n",
       "  </tbody>\n",
       "</table>\n",
       "</div>"
      ],
      "text/plain": [
       "      id neighbourhood_cleansed        room_type  accommodates bathrooms_text  \\\n",
       "0  42196          Santo Stefano  Entire home/apt             2         1 bath   \n",
       "1  46352      Porto - Saragozza     Private room             2  1 shared bath   \n",
       "2  59697          Santo Stefano     Private room             2  1 shared bath   \n",
       "\n",
       "   price  kitchen   wifi  \n",
       "0   68.0     True  False  \n",
       "1   29.0     True  False  \n",
       "2   50.0     True  False  "
      ]
     },
     "execution_count": 5,
     "metadata": {},
     "output_type": "execute_result"
    }
   ],
   "source": [
    "listings_selection.loc[:, 'price'] = listings_selection.loc[:, 'price'].str.replace(r'[$|,]', '', regex=True).astype(float)\n",
    "listings_selection.head(3)"
   ]
  },
  {
   "cell_type": "markdown",
   "metadata": {
    "pycharm": {
     "name": "#%% md\n"
    }
   },
   "source": [
    "5. Encoding shared bathroom into boolean"
   ]
  },
  {
   "cell_type": "code",
   "execution_count": 6,
   "metadata": {
    "pycharm": {
     "name": "#%%\n"
    }
   },
   "outputs": [
    {
     "data": {
      "text/html": [
       "<div>\n",
       "<style scoped>\n",
       "    .dataframe tbody tr th:only-of-type {\n",
       "        vertical-align: middle;\n",
       "    }\n",
       "\n",
       "    .dataframe tbody tr th {\n",
       "        vertical-align: top;\n",
       "    }\n",
       "\n",
       "    .dataframe thead th {\n",
       "        text-align: right;\n",
       "    }\n",
       "</style>\n",
       "<table border=\"1\" class=\"dataframe\">\n",
       "  <thead>\n",
       "    <tr style=\"text-align: right;\">\n",
       "      <th></th>\n",
       "      <th>id</th>\n",
       "      <th>neighbourhood_cleansed</th>\n",
       "      <th>room_type</th>\n",
       "      <th>accommodates</th>\n",
       "      <th>shared_bathroom</th>\n",
       "      <th>price</th>\n",
       "      <th>kitchen</th>\n",
       "      <th>wifi</th>\n",
       "    </tr>\n",
       "  </thead>\n",
       "  <tbody>\n",
       "    <tr>\n",
       "      <th>0</th>\n",
       "      <td>42196</td>\n",
       "      <td>Santo Stefano</td>\n",
       "      <td>Entire home/apt</td>\n",
       "      <td>2</td>\n",
       "      <td>False</td>\n",
       "      <td>68.0</td>\n",
       "      <td>True</td>\n",
       "      <td>False</td>\n",
       "    </tr>\n",
       "    <tr>\n",
       "      <th>1</th>\n",
       "      <td>46352</td>\n",
       "      <td>Porto - Saragozza</td>\n",
       "      <td>Private room</td>\n",
       "      <td>2</td>\n",
       "      <td>True</td>\n",
       "      <td>29.0</td>\n",
       "      <td>True</td>\n",
       "      <td>False</td>\n",
       "    </tr>\n",
       "    <tr>\n",
       "      <th>2</th>\n",
       "      <td>59697</td>\n",
       "      <td>Santo Stefano</td>\n",
       "      <td>Private room</td>\n",
       "      <td>2</td>\n",
       "      <td>True</td>\n",
       "      <td>50.0</td>\n",
       "      <td>True</td>\n",
       "      <td>False</td>\n",
       "    </tr>\n",
       "  </tbody>\n",
       "</table>\n",
       "</div>"
      ],
      "text/plain": [
       "      id neighbourhood_cleansed        room_type  accommodates  \\\n",
       "0  42196          Santo Stefano  Entire home/apt             2   \n",
       "1  46352      Porto - Saragozza     Private room             2   \n",
       "2  59697          Santo Stefano     Private room             2   \n",
       "\n",
       "  shared_bathroom  price  kitchen   wifi  \n",
       "0           False   68.0     True  False  \n",
       "1            True   29.0     True  False  \n",
       "2            True   50.0     True  False  "
      ]
     },
     "execution_count": 6,
     "metadata": {},
     "output_type": "execute_result"
    }
   ],
   "source": [
    "listings_selection.loc[:, 'bathrooms_text'] = listings_selection.loc[:, 'bathrooms_text'].str.contains('shared')\n",
    "listings_selection = listings_selection.rename(columns = {'bathrooms_text': 'shared_bathroom'})\n",
    "listings_selection.head(3)"
   ]
  },
  {
   "cell_type": "markdown",
   "metadata": {
    "pycharm": {
     "name": "#%% md\n"
    }
   },
   "source": [
    "6. Discretizing price into 4 categories: '0-50', '50-150', '150-500', '>500'"
   ]
  },
  {
   "cell_type": "code",
   "execution_count": 7,
   "metadata": {
    "pycharm": {
     "name": "#%%\n"
    }
   },
   "outputs": [
    {
     "data": {
      "text/html": [
       "<div>\n",
       "<style scoped>\n",
       "    .dataframe tbody tr th:only-of-type {\n",
       "        vertical-align: middle;\n",
       "    }\n",
       "\n",
       "    .dataframe tbody tr th {\n",
       "        vertical-align: top;\n",
       "    }\n",
       "\n",
       "    .dataframe thead th {\n",
       "        text-align: right;\n",
       "    }\n",
       "</style>\n",
       "<table border=\"1\" class=\"dataframe\">\n",
       "  <thead>\n",
       "    <tr style=\"text-align: right;\">\n",
       "      <th></th>\n",
       "      <th>id</th>\n",
       "      <th>neighbourhood_cleansed</th>\n",
       "      <th>room_type</th>\n",
       "      <th>accommodates</th>\n",
       "      <th>shared_bathroom</th>\n",
       "      <th>price</th>\n",
       "      <th>kitchen</th>\n",
       "      <th>wifi</th>\n",
       "    </tr>\n",
       "  </thead>\n",
       "  <tbody>\n",
       "    <tr>\n",
       "      <th>0</th>\n",
       "      <td>42196</td>\n",
       "      <td>Santo Stefano</td>\n",
       "      <td>Entire home/apt</td>\n",
       "      <td>2</td>\n",
       "      <td>False</td>\n",
       "      <td>50-150</td>\n",
       "      <td>True</td>\n",
       "      <td>False</td>\n",
       "    </tr>\n",
       "    <tr>\n",
       "      <th>1</th>\n",
       "      <td>46352</td>\n",
       "      <td>Porto - Saragozza</td>\n",
       "      <td>Private room</td>\n",
       "      <td>2</td>\n",
       "      <td>True</td>\n",
       "      <td>0-50</td>\n",
       "      <td>True</td>\n",
       "      <td>False</td>\n",
       "    </tr>\n",
       "    <tr>\n",
       "      <th>2</th>\n",
       "      <td>59697</td>\n",
       "      <td>Santo Stefano</td>\n",
       "      <td>Private room</td>\n",
       "      <td>2</td>\n",
       "      <td>True</td>\n",
       "      <td>0-50</td>\n",
       "      <td>True</td>\n",
       "      <td>False</td>\n",
       "    </tr>\n",
       "    <tr>\n",
       "      <th>3</th>\n",
       "      <td>85368</td>\n",
       "      <td>Santo Stefano</td>\n",
       "      <td>Entire home/apt</td>\n",
       "      <td>2</td>\n",
       "      <td>False</td>\n",
       "      <td>50-150</td>\n",
       "      <td>True</td>\n",
       "      <td>True</td>\n",
       "    </tr>\n",
       "    <tr>\n",
       "      <th>4</th>\n",
       "      <td>145779</td>\n",
       "      <td>Porto - Saragozza</td>\n",
       "      <td>Private room</td>\n",
       "      <td>1</td>\n",
       "      <td>True</td>\n",
       "      <td>0-50</td>\n",
       "      <td>False</td>\n",
       "      <td>False</td>\n",
       "    </tr>\n",
       "    <tr>\n",
       "      <th>5</th>\n",
       "      <td>209692</td>\n",
       "      <td>Navile</td>\n",
       "      <td>Private room</td>\n",
       "      <td>1</td>\n",
       "      <td>True</td>\n",
       "      <td>0-50</td>\n",
       "      <td>True</td>\n",
       "      <td>False</td>\n",
       "    </tr>\n",
       "    <tr>\n",
       "      <th>6</th>\n",
       "      <td>219878</td>\n",
       "      <td>Santo Stefano</td>\n",
       "      <td>Entire home/apt</td>\n",
       "      <td>2</td>\n",
       "      <td>False</td>\n",
       "      <td>50-150</td>\n",
       "      <td>True</td>\n",
       "      <td>True</td>\n",
       "    </tr>\n",
       "    <tr>\n",
       "      <th>7</th>\n",
       "      <td>229114</td>\n",
       "      <td>Navile</td>\n",
       "      <td>Entire home/apt</td>\n",
       "      <td>4</td>\n",
       "      <td>False</td>\n",
       "      <td>50-150</td>\n",
       "      <td>True</td>\n",
       "      <td>False</td>\n",
       "    </tr>\n",
       "    <tr>\n",
       "      <th>8</th>\n",
       "      <td>233922</td>\n",
       "      <td>Porto - Saragozza</td>\n",
       "      <td>Entire home/apt</td>\n",
       "      <td>5</td>\n",
       "      <td>False</td>\n",
       "      <td>50-150</td>\n",
       "      <td>True</td>\n",
       "      <td>True</td>\n",
       "    </tr>\n",
       "    <tr>\n",
       "      <th>9</th>\n",
       "      <td>246747</td>\n",
       "      <td>Porto - Saragozza</td>\n",
       "      <td>Private room</td>\n",
       "      <td>2</td>\n",
       "      <td>True</td>\n",
       "      <td>50-150</td>\n",
       "      <td>False</td>\n",
       "      <td>True</td>\n",
       "    </tr>\n",
       "  </tbody>\n",
       "</table>\n",
       "</div>"
      ],
      "text/plain": [
       "       id neighbourhood_cleansed        room_type  accommodates  \\\n",
       "0   42196          Santo Stefano  Entire home/apt             2   \n",
       "1   46352      Porto - Saragozza     Private room             2   \n",
       "2   59697          Santo Stefano     Private room             2   \n",
       "3   85368          Santo Stefano  Entire home/apt             2   \n",
       "4  145779      Porto - Saragozza     Private room             1   \n",
       "5  209692                 Navile     Private room             1   \n",
       "6  219878          Santo Stefano  Entire home/apt             2   \n",
       "7  229114                 Navile  Entire home/apt             4   \n",
       "8  233922      Porto - Saragozza  Entire home/apt             5   \n",
       "9  246747      Porto - Saragozza     Private room             2   \n",
       "\n",
       "  shared_bathroom   price  kitchen   wifi  \n",
       "0           False  50-150     True  False  \n",
       "1            True    0-50     True  False  \n",
       "2            True    0-50     True  False  \n",
       "3           False  50-150     True   True  \n",
       "4            True    0-50    False  False  \n",
       "5            True    0-50     True  False  \n",
       "6           False  50-150     True   True  \n",
       "7           False  50-150     True  False  \n",
       "8           False  50-150     True   True  \n",
       "9            True  50-150    False   True  "
      ]
     },
     "execution_count": 7,
     "metadata": {},
     "output_type": "execute_result"
    }
   ],
   "source": [
    "listings_selection['price'], bins = pd.cut(listings_selection['price'], [0, 50, 150, 500, 10000], labels=['0-50', '50-150', '150-500', '>500'], retbins=True)\n",
    "listings_selection.head(10)\n"
   ]
  },
  {
   "cell_type": "code",
   "execution_count": 9,
   "metadata": {
    "pycharm": {
     "name": "#%%\n"
    }
   },
   "outputs": [
    {
     "ename": "AttributeError",
     "evalue": "'DataFrameGroupBy' object has no attribute 'value_counts'",
     "output_type": "error",
     "traceback": [
      "\u001b[1;31m---------------------------------------------------------------------------\u001b[0m",
      "\u001b[1;31mAttributeError\u001b[0m                            Traceback (most recent call last)",
      "\u001b[1;32m~\\AppData\\Local\\Temp/ipykernel_26696/1687123928.py\u001b[0m in \u001b[0;36m<module>\u001b[1;34m\u001b[0m\n\u001b[1;32m----> 1\u001b[1;33m \u001b[0mlistings_selection\u001b[0m\u001b[1;33m.\u001b[0m\u001b[0mgroupby\u001b[0m\u001b[1;33m(\u001b[0m\u001b[0mby\u001b[0m\u001b[1;33m=\u001b[0m\u001b[1;34m'price'\u001b[0m\u001b[1;33m)\u001b[0m\u001b[1;33m.\u001b[0m\u001b[0mvalue_counts\u001b[0m\u001b[1;33m(\u001b[0m\u001b[1;33m)\u001b[0m\u001b[1;33m\u001b[0m\u001b[1;33m\u001b[0m\u001b[0m\n\u001b[0m",
      "\u001b[1;32m~\\anaconda3\\lib\\site-packages\\pandas\\core\\groupby\\groupby.py\u001b[0m in \u001b[0;36m__getattr__\u001b[1;34m(self, attr)\u001b[0m\n\u001b[0;32m    909\u001b[0m             \u001b[1;32mreturn\u001b[0m \u001b[0mself\u001b[0m\u001b[1;33m[\u001b[0m\u001b[0mattr\u001b[0m\u001b[1;33m]\u001b[0m\u001b[1;33m\u001b[0m\u001b[1;33m\u001b[0m\u001b[0m\n\u001b[0;32m    910\u001b[0m \u001b[1;33m\u001b[0m\u001b[0m\n\u001b[1;32m--> 911\u001b[1;33m         raise AttributeError(\n\u001b[0m\u001b[0;32m    912\u001b[0m             \u001b[1;34mf\"'{type(self).__name__}' object has no attribute '{attr}'\"\u001b[0m\u001b[1;33m\u001b[0m\u001b[1;33m\u001b[0m\u001b[0m\n\u001b[0;32m    913\u001b[0m         )\n",
      "\u001b[1;31mAttributeError\u001b[0m: 'DataFrameGroupBy' object has no attribute 'value_counts'"
     ]
    }
   ],
   "source": [
    "listings_selection.groupby(by='price').value_counts()"
   ]
  },
  {
   "cell_type": "markdown",
   "metadata": {
    "pycharm": {
     "name": "#%% md\n"
    }
   },
   "source": [
    "7. Counting NaN values and removing them"
   ]
  },
  {
   "cell_type": "code",
   "execution_count": 103,
   "metadata": {
    "pycharm": {
     "name": "#%%\n"
    }
   },
   "outputs": [
    {
     "name": "stdout",
     "output_type": "stream",
     "text": [
      "Number of rows before cleaning: 3453\n",
      "Number of rows after cleaning: 3448\n"
     ]
    }
   ],
   "source": [
    "print(f'Number of rows before cleaning: {listings_selection.shape[0]}')\n",
    "listings_clean = listings_selection.dropna()\n",
    "print(f'Number of rows after cleaning: {listings_clean.shape[0]}')"
   ]
  },
  {
   "cell_type": "markdown",
   "metadata": {
    "pycharm": {
     "name": "#%% md\n"
    }
   },
   "source": [
    "8. Storing unique values and cardinalities"
   ]
  },
  {
   "cell_type": "code",
   "execution_count": 118,
   "metadata": {
    "pycharm": {
     "name": "#%%\n"
    }
   },
   "outputs": [
    {
     "name": "stdout",
     "output_type": "stream",
     "text": [
      "Neighbourhood cardinality: 6\n",
      "Neighbourhood values: ['Santo Stefano' 'Porto - Saragozza' 'Navile' 'San Donato - San Vitale'\n",
      " 'Savena' 'Borgo Panigale - Reno']\n",
      "\n",
      "Room type cardinality: 4\n",
      "Room Type values: ['Entire home/apt' 'Private room' 'Hotel room' 'Shared room']\n",
      "\n",
      "Accommodates cardinality: 16\n",
      "Accommodates values: [ 2  1  4  5  3  6  9  8  7 10 13 16 12 11 15 14]\n",
      "\n",
      "Shared bathroom cardinality: 2\n",
      "Shared bathroom values: [True, False]\n",
      "\n",
      "Kitchen cardinality: 2\n",
      "Kitchen values: [True, False]\n",
      "\n",
      "Wifi cardinality: 2\n",
      "Wifi values: [True, False]\n",
      "\n",
      "Price cardinality: 4\n",
      "Price values: ['0-50', '50-150', '150-500', '>500']\n",
      "\n"
     ]
    }
   ],
   "source": [
    "neighbourhood_v = listings_clean['neighbourhood_cleansed'].unique()\n",
    "neighbourhood_c = len(neighbourhood_v)\n",
    "print(f'Neighbourhood cardinality: {neighbourhood_c}\\nNeighbourhood values: {neighbourhood_v}\\n')\n",
    "\n",
    "room_type_v = listings_clean['room_type'].unique()\n",
    "room_type_c = len(room_type_v)\n",
    "print(f'Room type cardinality: {room_type_c}\\nRoom Type values: {room_type_v}\\n')\n",
    "\n",
    "accommodates_v = listings_clean['accommodates'].unique()\n",
    "accommodates_c = len(accommodates_v)\n",
    "print(f'Accommodates cardinality: {accommodates_c}\\nAccommodates values: {accommodates_v}\\n')\n",
    "\n",
    "shared_bathroom_v = [True, False]\n",
    "shared_bathroom_c = 2\n",
    "print(f'Shared bathroom cardinality: {shared_bathroom_c}\\nShared bathroom values: {shared_bathroom_v}\\n')\n",
    "\n",
    "kitchen_v = [True, False]\n",
    "kitchen_c = 2\n",
    "print(f'Kitchen cardinality: {kitchen_c}\\nKitchen values: {kitchen_v}\\n')\n",
    "\n",
    "wifi_v = [True, False]\n",
    "wifi_c = 2\n",
    "print(f'Wifi cardinality: {wifi_c}\\nWifi values: {wifi_v}\\n')\n",
    "\n",
    "price_v = ['0-50', '50-150', '150-500', '>500']\n",
    "price_c = 4\n",
    "print(f'Price cardinality: {price_c}\\nPrice values: {price_v}\\n')"
   ]
  },
  {
   "cell_type": "markdown",
   "metadata": {
    "pycharm": {
     "name": "#%% md\n"
    }
   },
   "source": [
    "## Probabilities calculation\n",
    "1. Splitting dataset in train and test"
   ]
  }
 ],
 "metadata": {
  "kernelspec": {
   "display_name": "Python 3 (ipykernel)",
   "language": "python",
   "name": "python3"
  },
  "language_info": {
   "codemirror_mode": {
    "name": "ipython",
    "version": 3
   },
   "file_extension": ".py",
   "mimetype": "text/x-python",
   "name": "python",
   "nbconvert_exporter": "python",
   "pygments_lexer": "ipython3",
   "version": "3.9.7"
  }
 },
 "nbformat": 4,
 "nbformat_minor": 1
}
